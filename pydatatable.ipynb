{
 "nbformat": 4,
 "nbformat_minor": 2,
 "metadata": {
  "language_info": {
   "name": "python",
   "codemirror_mode": {
    "name": "ipython",
    "version": 3
   }
  },
  "orig_nbformat": 2,
  "file_extension": ".py",
  "mimetype": "text/x-python",
  "name": "python",
  "npconvert_exporter": "python",
  "pygments_lexer": "ipython3",
  "version": 3
 },
 "cells": [
  {
   "cell_type": "markdown",
   "execution_count": null,
   "metadata": {},
   "outputs": [],
   "source": [
    "# Python datatable Intro\n",
    "\n",
    "Checkout the [documentation](https://datatable.readthedocs.io/en/latest/index.html) for additional details. [This kaggle kernel](https://www.kaggle.com/sudalairajkumar/getting-started-with-python-datatable) also provides a nice walk-through."
   ]
  },
  {
   "cell_type": "code",
   "execution_count": 3,
   "metadata": {},
   "outputs": [],
   "source": [
    "import numpy as np\n",
    "import pandas as pd\n",
    "import datatable as dt"
   ]
  },
  {
   "cell_type": "markdown",
   "execution_count": null,
   "metadata": {},
   "outputs": [],
   "source": [
    "# Create a dataframe"
   ]
  },
  {
   "cell_type": "code",
   "execution_count": 72,
   "metadata": {},
   "outputs": [
    {
     "data": {
      "text/html": "<div class='datatable'>\n  <table class='frame'>\n  <thead>\n    <tr class='colnames'><td class='row_index'></td><th>n</th><th>s</th></tr>\n    <tr class='coltypes'><td class='row_index'></td><td class='integer' title='int32'>&#x25AA;&#x25AA;&#x25AA;&#x25AA;</td><td class='string' title='str32'>&#x25AA;&#x25AA;&#x25AA;&#x25AA;</td></tr>\n  </thead>\n  <tbody>\n    <tr><td class='row_index'>0</td><td>1</td><td>foo</td></tr>\n    <tr><td class='row_index'>1</td><td>3</td><td>bar</td></tr>\n  </tbody>\n  </table>\n  <div class='footer'>\n    <div class='frame_dimensions'>2 rows &times; 2 columns</div>\n  </div>\n</div>\n",
      "text/plain": "<Frame [2 rows x 2 cols]>"
     },
     "execution_count": 72,
     "metadata": {},
     "output_type": "execute_result"
    }
   ],
   "source": [
    "dt.Frame({\"n\": [1, 3], \"s\": [\"foo\", \"bar\"]})"
   ]
  },
  {
   "cell_type": "markdown",
   "execution_count": null,
   "metadata": {},
   "outputs": [],
   "source": [
    "# Loading Data\n",
    "\n",
    "Just as with R, `fread` can be used to read in the data file."
   ]
  },
  {
   "cell_type": "code",
   "execution_count": 40,
   "metadata": {},
   "outputs": [],
   "source": [
    "link_loan_07 = \"https://raw.githubusercontent.com/dosei1/Lending-Club-Loan-Data/master/loans_2007.csv\"\n",
    "\n",
    "df = dt.fread(link_loan_07)"
   ]
  },
  {
   "cell_type": "code",
   "execution_count": 41,
   "metadata": {},
   "outputs": [
    {
     "data": {
      "text/plain": "datatable.Frame"
     },
     "execution_count": 41,
     "metadata": {},
     "output_type": "execute_result"
    }
   ],
   "source": [
    "type(df)"
   ]
  },
  {
   "cell_type": "markdown",
   "execution_count": null,
   "metadata": {},
   "outputs": [],
   "source": [
    "The `datatable` package allows you to convert the data frame to a Pandas dataframe or even NumPy using the `to_pandas` and `to_numpy` methods, respectively."
   ]
  },
  {
   "cell_type": "code",
   "execution_count": 42,
   "metadata": {},
   "outputs": [
    {
     "name": "stdout",
     "output_type": "stream",
     "text": "<class 'numpy.ma.core.MaskedArray'>\n<class 'pandas.core.frame.DataFrame'>\n"
    }
   ],
   "source": [
    "numpy_df = df.to_numpy()\n",
    "pandas_df = df.to_pandas()\n",
    "\n",
    "print( type(numpy_df) )\n",
    "print( type(pandas_df) )"
   ]
  },
  {
   "cell_type": "markdown",
   "execution_count": null,
   "metadata": {},
   "outputs": [],
   "source": [
    "# Basic Properties\n",
    "\n",
    "- Shape\n",
    "- Column names\n",
    "- Data types"
   ]
  },
  {
   "cell_type": "code",
   "execution_count": 43,
   "metadata": {},
   "outputs": [
    {
     "name": "stdout",
     "output_type": "stream",
     "text": "(39252, 41)\n('loan_amnt', 'int_rate', 'installment', 'emp_length', 'annual_inc')\n(stype.float64, stype.float64, stype.float64, stype.int32, stype.float64)\n"
    }
   ],
   "source": [
    "print(df.shape)       # (nrows, ncols)\n",
    "print(df.names[:5])   # top 5 column names\n",
    "print(df.stypes[:5])  # column types(top 5)"
   ]
  },
  {
   "cell_type": "code",
   "execution_count": 55,
   "metadata": {},
   "outputs": [
    {
     "data": {
      "text/html": "<div class='datatable'>\n  <table class='frame'>\n  <thead>\n    <tr class='colnames'><td class='row_index'></td><th>col_names</th><th>types</th></tr>\n    <tr class='coltypes'><td class='row_index'></td><td class='string' title='str32'>&#x25AA;&#x25AA;&#x25AA;&#x25AA;</td><td class='object' title='obj64'>&#x25AA;&#x25AA;&#x25AA;&#x25AA;&#x25AA;&#x25AA;&#x25AA;&#x25AA;</td></tr>\n  </thead>\n  <tbody>\n    <tr><td class='row_index'>0</td><td>loan_amnt</td><td>stype.float64</td></tr>\n    <tr><td class='row_index'>1</td><td>int_rate</td><td>stype.float64</td></tr>\n    <tr><td class='row_index'>2</td><td>installment</td><td>stype.float64</td></tr>\n    <tr><td class='row_index'>3</td><td>emp_length</td><td>stype.int32</td></tr>\n    <tr><td class='row_index'>4</td><td>annual_inc</td><td>stype.float64</td></tr>\n    <tr><td class='row_index'>5</td><td>loan_status</td><td>stype.bool8</td></tr>\n    <tr><td class='row_index'>6</td><td>dti</td><td>stype.float64</td></tr>\n    <tr><td class='row_index'>7</td><td>delinq_2yrs</td><td>stype.float64</td></tr>\n    <tr><td class='row_index'>8</td><td>fico_range_high</td><td>stype.float64</td></tr>\n    <tr><td class='row_index'>9</td><td>inq_last_6mths</td><td>stype.float64</td></tr>\n    <tr><td class='row_index'>10</td><td>open_acc</td><td>stype.float64</td></tr>\n    <tr><td class='row_index'>11</td><td>pub_rec</td><td>stype.float64</td></tr>\n    <tr><td class='row_index'>12</td><td>revol_bal</td><td>stype.float64</td></tr>\n    <tr><td class='row_index'>13</td><td>revol_util</td><td>stype.float64</td></tr>\n    <tr><td class='row_index'>14</td><td>total_acc</td><td>stype.float64</td></tr>\n    <tr><td class='row_index'>&#x22EE;</td><td class='hellipsis'>&#x22EE;</td><td class='hellipsis'>&#x22EE;</td></tr>\n    <tr><td class='row_index'>35</td><td>purpose_small_business</td><td>stype.float64</td></tr>\n    <tr><td class='row_index'>36</td><td>purpose_vacation</td><td>stype.float64</td></tr>\n    <tr><td class='row_index'>37</td><td>purpose_wedding</td><td>stype.float64</td></tr>\n    <tr><td class='row_index'>38</td><td>term_ 36 months</td><td>stype.float64</td></tr>\n    <tr><td class='row_index'>39</td><td>term_ 60 months</td><td>stype.float64</td></tr>\n  </tbody>\n  </table>\n  <div class='footer'>\n    <div class='frame_dimensions'>40 rows &times; 2 columns</div>\n  </div>\n</div>\n",
      "text/plain": "<Frame [40 rows x 2 cols]>"
     },
     "execution_count": 55,
     "metadata": {},
     "output_type": "execute_result"
    }
   ],
   "source": [
    "dt.Frame(col_names = df.names, types = df.stypes)"
   ]
  },
  {
   "cell_type": "code",
   "execution_count": 44,
   "metadata": {},
   "outputs": [
    {
     "data": {
      "text/html": "<div class='datatable'>\n  <table class='frame'>\n  <thead>\n    <tr class='colnames'><td class='row_index'></td><th>loan_amnt</th><th>int_rate</th><th>installment</th><th>emp_length</th><th>annual_inc</th><th>loan_status</th><th>zip_code</th><th>dti</th><th>delinq_2yrs</th><th>fico_range_high</th><th class='vellipsis'>&hellip;</th><th>purpose_small_business</th><th>purpose_vacation</th><th>purpose_wedding</th><th>term_ 36 months</th><th>term_ 60 months</th></tr>\n    <tr class='coltypes'><td class='row_index'></td><td class='float' title='float64'>&#x25AA;&#x25AA;&#x25AA;&#x25AA;&#x25AA;&#x25AA;&#x25AA;&#x25AA;</td><td class='float' title='float64'>&#x25AA;&#x25AA;&#x25AA;&#x25AA;&#x25AA;&#x25AA;&#x25AA;&#x25AA;</td><td class='float' title='float64'>&#x25AA;&#x25AA;&#x25AA;&#x25AA;&#x25AA;&#x25AA;&#x25AA;&#x25AA;</td><td class='integer' title='int32'>&#x25AA;&#x25AA;&#x25AA;&#x25AA;</td><td class='float' title='float64'>&#x25AA;&#x25AA;&#x25AA;&#x25AA;&#x25AA;&#x25AA;&#x25AA;&#x25AA;</td><td class='boolean' title='bool8'>&#x25AA;</td><td class='integer' title='int32'>&#x25AA;&#x25AA;&#x25AA;&#x25AA;</td><td class='float' title='float64'>&#x25AA;&#x25AA;&#x25AA;&#x25AA;&#x25AA;&#x25AA;&#x25AA;&#x25AA;</td><td class='float' title='float64'>&#x25AA;&#x25AA;&#x25AA;&#x25AA;&#x25AA;&#x25AA;&#x25AA;&#x25AA;</td><td class='float' title='float64'>&#x25AA;&#x25AA;&#x25AA;&#x25AA;&#x25AA;&#x25AA;&#x25AA;&#x25AA;</td><td></td><td class='float' title='float64'>&#x25AA;&#x25AA;&#x25AA;&#x25AA;&#x25AA;&#x25AA;&#x25AA;&#x25AA;</td><td class='float' title='float64'>&#x25AA;&#x25AA;&#x25AA;&#x25AA;&#x25AA;&#x25AA;&#x25AA;&#x25AA;</td><td class='float' title='float64'>&#x25AA;&#x25AA;&#x25AA;&#x25AA;&#x25AA;&#x25AA;&#x25AA;&#x25AA;</td><td class='float' title='float64'>&#x25AA;&#x25AA;&#x25AA;&#x25AA;&#x25AA;&#x25AA;&#x25AA;&#x25AA;</td><td class='float' title='float64'>&#x25AA;&#x25AA;&#x25AA;&#x25AA;&#x25AA;&#x25AA;&#x25AA;&#x25AA;</td></tr>\n  </thead>\n  <tbody>\n    <tr><td class='row_index'>0</td><td>5000</td><td>10.65</td><td>162.87</td><td>10</td><td>24000</td><td>1</td><td>860</td><td>27.65</td><td>0</td><td>739</td><td class=vellipsis>&hellip;</td><td>0</td><td>0</td><td>0</td><td>1</td><td>0</td></tr>\n    <tr><td class='row_index'>1</td><td>2500</td><td>15.27</td><td>59.83</td><td>0</td><td>30000</td><td>0</td><td>309</td><td>1</td><td>0</td><td>744</td><td class=vellipsis>&hellip;</td><td>0</td><td>0</td><td>0</td><td>0</td><td>1</td></tr>\n    <tr><td class='row_index'>2</td><td>2400</td><td>15.96</td><td>84.33</td><td>10</td><td>12252</td><td>1</td><td>606</td><td>8.72</td><td>0</td><td>739</td><td class=vellipsis>&hellip;</td><td>1</td><td>0</td><td>0</td><td>1</td><td>0</td></tr>\n    <tr><td class='row_index'>3</td><td>10000</td><td>13.49</td><td>339.31</td><td>10</td><td>49200</td><td>1</td><td>917</td><td>20</td><td>0</td><td>694</td><td class=vellipsis>&hellip;</td><td>0</td><td>0</td><td>0</td><td>1</td><td>0</td></tr>\n    <tr><td class='row_index'>4</td><td>5000</td><td>7.9</td><td>156.46</td><td>3</td><td>36000</td><td>1</td><td>852</td><td>11.2</td><td>0</td><td>734</td><td class=vellipsis>&hellip;</td><td>0</td><td>0</td><td>1</td><td>1</td><td>0</td></tr>\n    <tr><td class='row_index'>5</td><td>7000</td><td>15.96</td><td>170.08</td><td>8</td><td>47004</td><td>1</td><td>280</td><td>23.51</td><td>0</td><td>694</td><td class=vellipsis>&hellip;</td><td>0</td><td>0</td><td>0</td><td>0</td><td>1</td></tr>\n    <tr><td class='row_index'>6</td><td>3000</td><td>18.64</td><td>109.43</td><td>9</td><td>48000</td><td>1</td><td>900</td><td>5.35</td><td>0</td><td>664</td><td class=vellipsis>&hellip;</td><td>0</td><td>0</td><td>0</td><td>1</td><td>0</td></tr>\n    <tr><td class='row_index'>7</td><td>5600</td><td>21.28</td><td>152.39</td><td>4</td><td>40000</td><td>0</td><td>958</td><td>5.55</td><td>0</td><td>679</td><td class=vellipsis>&hellip;</td><td>1</td><td>0</td><td>0</td><td>0</td><td>1</td></tr>\n    <tr><td class='row_index'>8</td><td>5375</td><td>12.69</td><td>121.45</td><td>0</td><td>15000</td><td>0</td><td>774</td><td>18.08</td><td>0</td><td>729</td><td class=vellipsis>&hellip;</td><td>0</td><td>0</td><td>0</td><td>0</td><td>1</td></tr>\n    <tr><td class='row_index'>9</td><td>6500</td><td>14.65</td><td>153.45</td><td>5</td><td>72000</td><td>1</td><td>853</td><td>16.12</td><td>0</td><td>699</td><td class=vellipsis>&hellip;</td><td>0</td><td>0</td><td>0</td><td>0</td><td>1</td></tr>\n  </tbody>\n  </table>\n  <div class='footer'>\n    <div class='frame_dimensions'>10 rows &times; 41 columns</div>\n  </div>\n</div>\n",
      "text/plain": "<Frame [10 rows x 41 cols]>"
     },
     "execution_count": 44,
     "metadata": {},
     "output_type": "execute_result"
    }
   ],
   "source": [
    "df.head(10)"
   ]
  },
  {
   "cell_type": "markdown",
   "execution_count": null,
   "metadata": {},
   "outputs": [],
   "source": [
    "# Summary Statistics\n",
    "\n",
    "```\n",
    "df.sum()\n",
    "df.max()\n",
    "df.min()\n",
    "df.mean()\n",
    "df.sd()\n",
    "df.mode()\n",
    "df.nmodal()\n",
    "df.nunique()\n",
    "```"
   ]
  },
  {
   "cell_type": "code",
   "execution_count": 45,
   "metadata": {},
   "outputs": [
    {
     "data": {
      "text/html": "<div class='datatable'>\n  <table class='frame'>\n  <thead>\n    <tr class='colnames'><td class='row_index'></td><th>loan_amnt</th><th>int_rate</th><th>installment</th><th>emp_length</th><th>annual_inc</th><th>loan_status</th><th>zip_code</th><th>dti</th><th>delinq_2yrs</th><th>fico_range_high</th><th class='vellipsis'>&hellip;</th><th>purpose_small_business</th><th>purpose_vacation</th><th>purpose_wedding</th><th>term_ 36 months</th><th>term_ 60 months</th></tr>\n    <tr class='coltypes'><td class='row_index'></td><td class='float' title='float64'>&#x25AA;&#x25AA;&#x25AA;&#x25AA;&#x25AA;&#x25AA;&#x25AA;&#x25AA;</td><td class='float' title='float64'>&#x25AA;&#x25AA;&#x25AA;&#x25AA;&#x25AA;&#x25AA;&#x25AA;&#x25AA;</td><td class='float' title='float64'>&#x25AA;&#x25AA;&#x25AA;&#x25AA;&#x25AA;&#x25AA;&#x25AA;&#x25AA;</td><td class='float' title='float64'>&#x25AA;&#x25AA;&#x25AA;&#x25AA;&#x25AA;&#x25AA;&#x25AA;&#x25AA;</td><td class='float' title='float64'>&#x25AA;&#x25AA;&#x25AA;&#x25AA;&#x25AA;&#x25AA;&#x25AA;&#x25AA;</td><td class='float' title='float64'>&#x25AA;&#x25AA;&#x25AA;&#x25AA;&#x25AA;&#x25AA;&#x25AA;&#x25AA;</td><td class='float' title='float64'>&#x25AA;&#x25AA;&#x25AA;&#x25AA;&#x25AA;&#x25AA;&#x25AA;&#x25AA;</td><td class='float' title='float64'>&#x25AA;&#x25AA;&#x25AA;&#x25AA;&#x25AA;&#x25AA;&#x25AA;&#x25AA;</td><td class='float' title='float64'>&#x25AA;&#x25AA;&#x25AA;&#x25AA;&#x25AA;&#x25AA;&#x25AA;&#x25AA;</td><td class='float' title='float64'>&#x25AA;&#x25AA;&#x25AA;&#x25AA;&#x25AA;&#x25AA;&#x25AA;&#x25AA;</td><td></td><td class='float' title='float64'>&#x25AA;&#x25AA;&#x25AA;&#x25AA;&#x25AA;&#x25AA;&#x25AA;&#x25AA;</td><td class='float' title='float64'>&#x25AA;&#x25AA;&#x25AA;&#x25AA;&#x25AA;&#x25AA;&#x25AA;&#x25AA;</td><td class='float' title='float64'>&#x25AA;&#x25AA;&#x25AA;&#x25AA;&#x25AA;&#x25AA;&#x25AA;&#x25AA;</td><td class='float' title='float64'>&#x25AA;&#x25AA;&#x25AA;&#x25AA;&#x25AA;&#x25AA;&#x25AA;&#x25AA;</td><td class='float' title='float64'>&#x25AA;&#x25AA;&#x25AA;&#x25AA;&#x25AA;&#x25AA;&#x25AA;&#x25AA;</td></tr>\n  </thead>\n  <tbody>\n    <tr><td class='row_index'>0</td><td>11137.2</td><td>11.9828</td><td>323.311</td><td>4.82605</td><td>68889.1</td><td>0.855651</td><td>502.383</td><td>13.2951</td><td>0.146617</td><td>718.996</td><td class=vellipsis>&hellip;</td><td>0.0457811</td><td>0.00963008</td><td>0.0239733</td><td>0.741262</td><td>0.258738</td></tr>\n  </tbody>\n  </table>\n  <div class='footer'>\n    <div class='frame_dimensions'>1 row &times; 41 columns</div>\n  </div>\n</div>\n",
      "text/plain": "<Frame [1 row x 41 cols]>"
     },
     "execution_count": 45,
     "metadata": {},
     "output_type": "execute_result"
    }
   ],
   "source": [
    "df.mean()"
   ]
  },
  {
   "cell_type": "markdown",
   "execution_count": null,
   "metadata": {},
   "outputs": [],
   "source": [
    "# Data Manipulation"
   ]
  },
  {
   "cell_type": "markdown",
   "execution_count": null,
   "metadata": {},
   "outputs": [],
   "source": [
    "## Select columns"
   ]
  },
  {
   "cell_type": "code",
   "execution_count": 46,
   "metadata": {},
   "outputs": [
    {
     "data": {
      "text/html": "<div class='datatable'>\n  <table class='frame'>\n  <thead>\n    <tr class='colnames'><td class='row_index'></td><th>annual_inc</th></tr>\n    <tr class='coltypes'><td class='row_index'></td><td class='float' title='float64'>&#x25AA;&#x25AA;&#x25AA;&#x25AA;&#x25AA;&#x25AA;&#x25AA;&#x25AA;</td></tr>\n  </thead>\n  <tbody>\n    <tr><td class='row_index'>0</td><td>24000</td></tr>\n    <tr><td class='row_index'>1</td><td>30000</td></tr>\n    <tr><td class='row_index'>2</td><td>12252</td></tr>\n    <tr><td class='row_index'>3</td><td>49200</td></tr>\n    <tr><td class='row_index'>4</td><td>36000</td></tr>\n    <tr><td class='row_index'>5</td><td>47004</td></tr>\n    <tr><td class='row_index'>6</td><td>48000</td></tr>\n    <tr><td class='row_index'>7</td><td>40000</td></tr>\n    <tr><td class='row_index'>8</td><td>15000</td></tr>\n    <tr><td class='row_index'>9</td><td>72000</td></tr>\n  </tbody>\n  </table>\n  <div class='footer'>\n    <div class='frame_dimensions'>10 rows &times; 1 column</div>\n  </div>\n</div>\n",
      "text/plain": "<Frame [10 rows x 1 col]>"
     },
     "execution_count": 46,
     "metadata": {},
     "output_type": "execute_result"
    }
   ],
   "source": [
    "# Select first 10 rows of the annual income column, `annual_inc`\n",
    "df[:, 'annual_inc'].head()"
   ]
  },
  {
   "cell_type": "code",
   "execution_count": 56,
   "metadata": {},
   "outputs": [
    {
     "data": {
      "text/html": "<div class='datatable'>\n  <table class='frame'>\n  <thead>\n    <tr class='colnames'><td class='row_index'></td><th>loan_status</th><th>annual_inc</th></tr>\n    <tr class='coltypes'><td class='row_index'></td><td class='boolean' title='bool8'>&#x25AA;</td><td class='float' title='float64'>&#x25AA;&#x25AA;&#x25AA;&#x25AA;&#x25AA;&#x25AA;&#x25AA;&#x25AA;</td></tr>\n  </thead>\n  <tbody>\n    <tr><td class='row_index'>0</td><td>0</td><td>30000</td></tr>\n    <tr><td class='row_index'>1</td><td>0</td><td>40000</td></tr>\n    <tr><td class='row_index'>2</td><td>0</td><td>15000</td></tr>\n    <tr><td class='row_index'>3</td><td>0</td><td>30000</td></tr>\n    <tr><td class='row_index'>4</td><td>0</td><td>100000</td></tr>\n    <tr><td class='row_index'>5</td><td>0</td><td>105000</td></tr>\n    <tr><td class='row_index'>6</td><td>0</td><td>76000</td></tr>\n    <tr><td class='row_index'>7</td><td>0</td><td>60000</td></tr>\n    <tr><td class='row_index'>8</td><td>0</td><td>50004</td></tr>\n    <tr><td class='row_index'>9</td><td>0</td><td>100000</td></tr>\n  </tbody>\n  </table>\n  <div class='footer'>\n    <div class='frame_dimensions'>10 rows &times; 2 columns</div>\n  </div>\n</div>\n",
      "text/plain": "<Frame [10 rows x 2 cols]>"
     },
     "execution_count": 56,
     "metadata": {},
     "output_type": "execute_result"
    }
   ],
   "source": [
    "# Select first 10 rows of annual income and loan status columns\n",
    "df[:, \"annual_inc\", \"loan_status\"].head()"
   ]
  },
  {
   "cell_type": "code",
   "execution_count": 57,
   "metadata": {},
   "outputs": [
    {
     "data": {
      "text/html": "<div class='datatable'>\n  <table class='frame'>\n  <thead>\n    <tr class='colnames'><td class='row_index'></td><th>loan_amnt</th><th>int_rate</th><th>installment</th><th>emp_length</th><th>annual_inc</th><th>loan_status</th></tr>\n    <tr class='coltypes'><td class='row_index'></td><td class='float' title='float64'>&#x25AA;&#x25AA;&#x25AA;&#x25AA;&#x25AA;&#x25AA;&#x25AA;&#x25AA;</td><td class='float' title='float64'>&#x25AA;&#x25AA;&#x25AA;&#x25AA;&#x25AA;&#x25AA;&#x25AA;&#x25AA;</td><td class='float' title='float64'>&#x25AA;&#x25AA;&#x25AA;&#x25AA;&#x25AA;&#x25AA;&#x25AA;&#x25AA;</td><td class='integer' title='int32'>&#x25AA;&#x25AA;&#x25AA;&#x25AA;</td><td class='float' title='float64'>&#x25AA;&#x25AA;&#x25AA;&#x25AA;&#x25AA;&#x25AA;&#x25AA;&#x25AA;</td><td class='boolean' title='bool8'>&#x25AA;</td></tr>\n  </thead>\n  <tbody>\n    <tr><td class='row_index'>0</td><td>5000</td><td>10.65</td><td>162.87</td><td>10</td><td>24000</td><td>1</td></tr>\n    <tr><td class='row_index'>1</td><td>2500</td><td>15.27</td><td>59.83</td><td>0</td><td>30000</td><td>0</td></tr>\n    <tr><td class='row_index'>2</td><td>2400</td><td>15.96</td><td>84.33</td><td>10</td><td>12252</td><td>1</td></tr>\n    <tr><td class='row_index'>3</td><td>10000</td><td>13.49</td><td>339.31</td><td>10</td><td>49200</td><td>1</td></tr>\n    <tr><td class='row_index'>4</td><td>5000</td><td>7.9</td><td>156.46</td><td>3</td><td>36000</td><td>1</td></tr>\n    <tr><td class='row_index'>5</td><td>7000</td><td>15.96</td><td>170.08</td><td>8</td><td>47004</td><td>1</td></tr>\n    <tr><td class='row_index'>6</td><td>3000</td><td>18.64</td><td>109.43</td><td>9</td><td>48000</td><td>1</td></tr>\n    <tr><td class='row_index'>7</td><td>5600</td><td>21.28</td><td>152.39</td><td>4</td><td>40000</td><td>0</td></tr>\n    <tr><td class='row_index'>8</td><td>5375</td><td>12.69</td><td>121.45</td><td>0</td><td>15000</td><td>0</td></tr>\n    <tr><td class='row_index'>9</td><td>6500</td><td>14.65</td><td>153.45</td><td>5</td><td>72000</td><td>1</td></tr>\n    <tr><td class='row_index'>10</td><td>12000</td><td>12.69</td><td>402.54</td><td>10</td><td>75000</td><td>1</td></tr>\n    <tr><td class='row_index'>11</td><td>9000</td><td>13.49</td><td>305.38</td><td>0</td><td>30000</td><td>0</td></tr>\n    <tr><td class='row_index'>12</td><td>3000</td><td>9.91</td><td>96.68</td><td>3</td><td>15000</td><td>1</td></tr>\n    <tr><td class='row_index'>13</td><td>10000</td><td>10.65</td><td>325.74</td><td>3</td><td>100000</td><td>0</td></tr>\n    <tr><td class='row_index'>14</td><td>1000</td><td>16.29</td><td>35.31</td><td>0</td><td>28000</td><td>1</td></tr>\n    <tr><td class='row_index'>&#x22EE;</td><td class='hellipsis'>&#x22EE;</td><td class='hellipsis'>&#x22EE;</td><td class='hellipsis'>&#x22EE;</td><td class='hellipsis'>&#x22EE;</td><td class='hellipsis'>&#x22EE;</td><td class='hellipsis'>&#x22EE;</td></tr>\n    <tr><td class='row_index'>39,247</td><td>2500</td><td>8.07</td><td>78.42</td><td>4</td><td>110000</td><td>1</td></tr>\n    <tr><td class='row_index'>39,248</td><td>8500</td><td>10.28</td><td>275.38</td><td>3</td><td>18000</td><td>1</td></tr>\n    <tr><td class='row_index'>39,249</td><td>5000</td><td>8.07</td><td>156.84</td><td>0</td><td>100000</td><td>1</td></tr>\n    <tr><td class='row_index'>39,250</td><td>5000</td><td>7.43</td><td>155.38</td><td>0</td><td>200000</td><td>1</td></tr>\n    <tr><td class='row_index'>39,251</td><td>7500</td><td>13.75</td><td>255.43</td><td>0</td><td>22000</td><td>1</td></tr>\n  </tbody>\n  </table>\n  <div class='footer'>\n    <div class='frame_dimensions'>39,252 rows &times; 6 columns</div>\n  </div>\n</div>\n",
      "text/plain": "<Frame [39252 rows x 6 cols]>"
     },
     "execution_count": 57,
     "metadata": {},
     "output_type": "execute_result"
    }
   ],
   "source": [
    "# Select all columns from loan_amnt to loan_status\n",
    "df[:, 'loan_amnt':'loan_status']\n",
    "\n",
    "# Alternative\n",
    "# df[:, dt.f['loan_amnt':'loan_status']]"
   ]
  },
  {
   "cell_type": "code",
   "execution_count": 79,
   "metadata": {},
   "outputs": [
    {
     "data": {
      "text/html": "<div class='datatable'>\n  <table class='frame'>\n  <thead>\n    <tr class='colnames'><td class='row_index'></td><th>term_ 60 months</th></tr>\n    <tr class='coltypes'><td class='row_index'></td><td class='float' title='float64'>&#x25AA;&#x25AA;&#x25AA;&#x25AA;&#x25AA;&#x25AA;&#x25AA;&#x25AA;</td></tr>\n  </thead>\n  <tbody>\n    <tr><td class='row_index'>0</td><td>0</td></tr>\n    <tr><td class='row_index'>1</td><td>1</td></tr>\n    <tr><td class='row_index'>2</td><td>0</td></tr>\n    <tr><td class='row_index'>3</td><td>0</td></tr>\n    <tr><td class='row_index'>4</td><td>0</td></tr>\n    <tr><td class='row_index'>5</td><td>1</td></tr>\n    <tr><td class='row_index'>6</td><td>0</td></tr>\n    <tr><td class='row_index'>7</td><td>1</td></tr>\n    <tr><td class='row_index'>8</td><td>1</td></tr>\n    <tr><td class='row_index'>9</td><td>1</td></tr>\n    <tr><td class='row_index'>10</td><td>0</td></tr>\n    <tr><td class='row_index'>11</td><td>0</td></tr>\n    <tr><td class='row_index'>12</td><td>0</td></tr>\n    <tr><td class='row_index'>13</td><td>0</td></tr>\n    <tr><td class='row_index'>14</td><td>0</td></tr>\n    <tr><td class='row_index'>&#x22EE;</td><td class='hellipsis'>&#x22EE;</td></tr>\n    <tr><td class='row_index'>39,247</td><td>0</td></tr>\n    <tr><td class='row_index'>39,248</td><td>0</td></tr>\n    <tr><td class='row_index'>39,249</td><td>0</td></tr>\n    <tr><td class='row_index'>39,250</td><td>0</td></tr>\n    <tr><td class='row_index'>39,251</td><td>0</td></tr>\n  </tbody>\n  </table>\n  <div class='footer'>\n    <div class='frame_dimensions'>39,252 rows &times; 1 column</div>\n  </div>\n</div>\n",
      "text/plain": "<Frame [39252 rows x 1 col]>"
     },
     "execution_count": 79,
     "metadata": {},
     "output_type": "execute_result"
    }
   ],
   "source": [
    "# Select the last column\n",
    "df[:, dt.f[-1]]"
   ]
  },
  {
   "cell_type": "code",
   "execution_count": 80,
   "metadata": {},
   "outputs": [
    {
     "data": {
      "text/html": "<div class='datatable'>\n  <table class='frame'>\n  <thead>\n    <tr class='colnames'><td class='row_index'></td><th>emp_length</th></tr>\n    <tr class='coltypes'><td class='row_index'></td><td class='integer' title='int32'>&#x25AA;&#x25AA;&#x25AA;&#x25AA;</td></tr>\n  </thead>\n  <tbody>\n    <tr><td class='row_index'>0</td><td>10</td></tr>\n    <tr><td class='row_index'>1</td><td>0</td></tr>\n    <tr><td class='row_index'>2</td><td>10</td></tr>\n    <tr><td class='row_index'>3</td><td>10</td></tr>\n    <tr><td class='row_index'>4</td><td>3</td></tr>\n    <tr><td class='row_index'>5</td><td>8</td></tr>\n    <tr><td class='row_index'>6</td><td>9</td></tr>\n    <tr><td class='row_index'>7</td><td>4</td></tr>\n    <tr><td class='row_index'>8</td><td>0</td></tr>\n    <tr><td class='row_index'>9</td><td>5</td></tr>\n    <tr><td class='row_index'>10</td><td>10</td></tr>\n    <tr><td class='row_index'>11</td><td>0</td></tr>\n    <tr><td class='row_index'>12</td><td>3</td></tr>\n    <tr><td class='row_index'>13</td><td>3</td></tr>\n    <tr><td class='row_index'>14</td><td>0</td></tr>\n    <tr><td class='row_index'>&#x22EE;</td><td class='hellipsis'>&#x22EE;</td></tr>\n    <tr><td class='row_index'>39,247</td><td>4</td></tr>\n    <tr><td class='row_index'>39,248</td><td>3</td></tr>\n    <tr><td class='row_index'>39,249</td><td>0</td></tr>\n    <tr><td class='row_index'>39,250</td><td>0</td></tr>\n    <tr><td class='row_index'>39,251</td><td>0</td></tr>\n  </tbody>\n  </table>\n  <div class='footer'>\n    <div class='frame_dimensions'>39,252 rows &times; 1 column</div>\n  </div>\n</div>\n",
      "text/plain": "<Frame [39252 rows x 1 col]>"
     },
     "execution_count": 80,
     "metadata": {},
     "output_type": "execute_result"
    }
   ],
   "source": [
    "# Select all integer columns\n",
    "df[:, dt.f[int]]\n",
    "\n",
    "# Select all float columns\n",
    "df[:, dt.f[float]]"
   ]
  },
  {
   "cell_type": "markdown",
   "execution_count": null,
   "metadata": {},
   "outputs": [],
   "source": [
    "# Filtering Rows\n",
    "\n",
    "In Python-flavored datatable, there is the concept of the **frame proxy** (`f`) which provides a simple way to refer to the `Frame` that we are currently operating upon."
   ]
  },
  {
   "cell_type": "code",
   "execution_count": 63,
   "metadata": {},
   "outputs": [
    {
     "data": {
      "text/html": "<div class='datatable'>\n  <table class='frame'>\n  <thead>\n    <tr class='colnames'><td class='row_index'></td><th>loan_amnt</th><th>int_rate</th><th>installment</th><th>emp_length</th><th>annual_inc</th><th>loan_status</th><th>dti</th><th>delinq_2yrs</th><th>fico_range_high</th><th>inq_last_6mths</th><th class='vellipsis'>&hellip;</th><th>purpose_small_business</th><th>purpose_vacation</th><th>purpose_wedding</th><th>term_ 36 months</th><th>term_ 60 months</th></tr>\n    <tr class='coltypes'><td class='row_index'></td><td class='float' title='float64'>&#x25AA;&#x25AA;&#x25AA;&#x25AA;&#x25AA;&#x25AA;&#x25AA;&#x25AA;</td><td class='float' title='float64'>&#x25AA;&#x25AA;&#x25AA;&#x25AA;&#x25AA;&#x25AA;&#x25AA;&#x25AA;</td><td class='float' title='float64'>&#x25AA;&#x25AA;&#x25AA;&#x25AA;&#x25AA;&#x25AA;&#x25AA;&#x25AA;</td><td class='integer' title='int32'>&#x25AA;&#x25AA;&#x25AA;&#x25AA;</td><td class='float' title='float64'>&#x25AA;&#x25AA;&#x25AA;&#x25AA;&#x25AA;&#x25AA;&#x25AA;&#x25AA;</td><td class='boolean' title='bool8'>&#x25AA;</td><td class='float' title='float64'>&#x25AA;&#x25AA;&#x25AA;&#x25AA;&#x25AA;&#x25AA;&#x25AA;&#x25AA;</td><td class='float' title='float64'>&#x25AA;&#x25AA;&#x25AA;&#x25AA;&#x25AA;&#x25AA;&#x25AA;&#x25AA;</td><td class='float' title='float64'>&#x25AA;&#x25AA;&#x25AA;&#x25AA;&#x25AA;&#x25AA;&#x25AA;&#x25AA;</td><td class='float' title='float64'>&#x25AA;&#x25AA;&#x25AA;&#x25AA;&#x25AA;&#x25AA;&#x25AA;&#x25AA;</td><td></td><td class='float' title='float64'>&#x25AA;&#x25AA;&#x25AA;&#x25AA;&#x25AA;&#x25AA;&#x25AA;&#x25AA;</td><td class='float' title='float64'>&#x25AA;&#x25AA;&#x25AA;&#x25AA;&#x25AA;&#x25AA;&#x25AA;&#x25AA;</td><td class='float' title='float64'>&#x25AA;&#x25AA;&#x25AA;&#x25AA;&#x25AA;&#x25AA;&#x25AA;&#x25AA;</td><td class='float' title='float64'>&#x25AA;&#x25AA;&#x25AA;&#x25AA;&#x25AA;&#x25AA;&#x25AA;&#x25AA;</td><td class='float' title='float64'>&#x25AA;&#x25AA;&#x25AA;&#x25AA;&#x25AA;&#x25AA;&#x25AA;&#x25AA;</td></tr>\n  </thead>\n  <tbody>\n    <tr><td class='row_index'>0</td><td>1500</td><td>14.7</td><td>51.78</td><td>1</td><td>25000</td><td>1</td><td>3.84</td><td>1</td><td>634</td><td>1</td><td class=vellipsis>&hellip;</td><td>0</td><td>0</td><td>0</td><td>1</td><td>0</td></tr>\n    <tr><td class='row_index'>1</td><td>2700</td><td>15.96</td><td>94.88</td><td>1</td><td>52200</td><td>1</td><td>12.57</td><td>0</td><td>629</td><td>1</td><td class=vellipsis>&hellip;</td><td>0</td><td>0</td><td>0</td><td>1</td><td>0</td></tr>\n  </tbody>\n  </table>\n  <div class='footer'>\n    <div class='frame_dimensions'>2 rows &times; 40 columns</div>\n  </div>\n</div>\n",
      "text/plain": "<Frame [2 rows x 40 cols]>"
     },
     "execution_count": 63,
     "metadata": {},
     "output_type": "execute_result"
    }
   ],
   "source": [
    "# Filter rows where interest rate > 10% *AND* FICO < 650\n",
    "df[ (dt.f.int_rate > 10) & (dt.f.fico_range_high < 650), :]"
   ]
  },
  {
   "cell_type": "code",
   "execution_count": 47,
   "metadata": {},
   "outputs": [
    {
     "data": {
      "text/html": "<div class='datatable'>\n  <table class='frame'>\n  <thead>\n    <tr class='colnames'><td class='row_index'></td><th>loan_amnt</th><th>int_rate</th><th>installment</th><th>emp_length</th><th>annual_inc</th><th>loan_status</th><th>zip_code</th><th>dti</th><th>delinq_2yrs</th><th>fico_range_high</th><th class='vellipsis'>&hellip;</th><th>purpose_small_business</th><th>purpose_vacation</th><th>purpose_wedding</th><th>term_ 36 months</th><th>term_ 60 months</th></tr>\n    <tr class='coltypes'><td class='row_index'></td><td class='float' title='float64'>&#x25AA;&#x25AA;&#x25AA;&#x25AA;&#x25AA;&#x25AA;&#x25AA;&#x25AA;</td><td class='float' title='float64'>&#x25AA;&#x25AA;&#x25AA;&#x25AA;&#x25AA;&#x25AA;&#x25AA;&#x25AA;</td><td class='float' title='float64'>&#x25AA;&#x25AA;&#x25AA;&#x25AA;&#x25AA;&#x25AA;&#x25AA;&#x25AA;</td><td class='integer' title='int32'>&#x25AA;&#x25AA;&#x25AA;&#x25AA;</td><td class='float' title='float64'>&#x25AA;&#x25AA;&#x25AA;&#x25AA;&#x25AA;&#x25AA;&#x25AA;&#x25AA;</td><td class='boolean' title='bool8'>&#x25AA;</td><td class='integer' title='int32'>&#x25AA;&#x25AA;&#x25AA;&#x25AA;</td><td class='float' title='float64'>&#x25AA;&#x25AA;&#x25AA;&#x25AA;&#x25AA;&#x25AA;&#x25AA;&#x25AA;</td><td class='float' title='float64'>&#x25AA;&#x25AA;&#x25AA;&#x25AA;&#x25AA;&#x25AA;&#x25AA;&#x25AA;</td><td class='float' title='float64'>&#x25AA;&#x25AA;&#x25AA;&#x25AA;&#x25AA;&#x25AA;&#x25AA;&#x25AA;</td><td></td><td class='float' title='float64'>&#x25AA;&#x25AA;&#x25AA;&#x25AA;&#x25AA;&#x25AA;&#x25AA;&#x25AA;</td><td class='float' title='float64'>&#x25AA;&#x25AA;&#x25AA;&#x25AA;&#x25AA;&#x25AA;&#x25AA;&#x25AA;</td><td class='float' title='float64'>&#x25AA;&#x25AA;&#x25AA;&#x25AA;&#x25AA;&#x25AA;&#x25AA;&#x25AA;</td><td class='float' title='float64'>&#x25AA;&#x25AA;&#x25AA;&#x25AA;&#x25AA;&#x25AA;&#x25AA;&#x25AA;</td><td class='float' title='float64'>&#x25AA;&#x25AA;&#x25AA;&#x25AA;&#x25AA;&#x25AA;&#x25AA;&#x25AA;</td></tr>\n  </thead>\n  <tbody>\n    <tr><td class='row_index'>0</td><td>5000</td><td>10.65</td><td>162.87</td><td>10</td><td>24000</td><td>1</td><td>860</td><td>27.65</td><td>0</td><td>739</td><td class=vellipsis>&hellip;</td><td>0</td><td>0</td><td>0</td><td>1</td><td>0</td></tr>\n    <tr><td class='row_index'>1</td><td>2400</td><td>15.96</td><td>84.33</td><td>10</td><td>12252</td><td>1</td><td>606</td><td>8.72</td><td>0</td><td>739</td><td class=vellipsis>&hellip;</td><td>1</td><td>0</td><td>0</td><td>1</td><td>0</td></tr>\n    <tr><td class='row_index'>2</td><td>10000</td><td>13.49</td><td>339.31</td><td>10</td><td>49200</td><td>1</td><td>917</td><td>20</td><td>0</td><td>694</td><td class=vellipsis>&hellip;</td><td>0</td><td>0</td><td>0</td><td>1</td><td>0</td></tr>\n    <tr><td class='row_index'>3</td><td>5000</td><td>7.9</td><td>156.46</td><td>3</td><td>36000</td><td>1</td><td>852</td><td>11.2</td><td>0</td><td>734</td><td class=vellipsis>&hellip;</td><td>0</td><td>0</td><td>1</td><td>1</td><td>0</td></tr>\n    <tr><td class='row_index'>4</td><td>7000</td><td>15.96</td><td>170.08</td><td>8</td><td>47004</td><td>1</td><td>280</td><td>23.51</td><td>0</td><td>694</td><td class=vellipsis>&hellip;</td><td>0</td><td>0</td><td>0</td><td>0</td><td>1</td></tr>\n    <tr><td class='row_index'>5</td><td>3000</td><td>18.64</td><td>109.43</td><td>9</td><td>48000</td><td>1</td><td>900</td><td>5.35</td><td>0</td><td>664</td><td class=vellipsis>&hellip;</td><td>0</td><td>0</td><td>0</td><td>1</td><td>0</td></tr>\n    <tr><td class='row_index'>6</td><td>6500</td><td>14.65</td><td>153.45</td><td>5</td><td>72000</td><td>1</td><td>853</td><td>16.12</td><td>0</td><td>699</td><td class=vellipsis>&hellip;</td><td>0</td><td>0</td><td>0</td><td>0</td><td>1</td></tr>\n    <tr><td class='row_index'>7</td><td>12000</td><td>12.69</td><td>402.54</td><td>10</td><td>75000</td><td>1</td><td>913</td><td>10.78</td><td>0</td><td>679</td><td class=vellipsis>&hellip;</td><td>0</td><td>0</td><td>0</td><td>1</td><td>0</td></tr>\n    <tr><td class='row_index'>8</td><td>3000</td><td>9.91</td><td>96.68</td><td>3</td><td>15000</td><td>1</td><td>606</td><td>12.56</td><td>0</td><td>709</td><td class=vellipsis>&hellip;</td><td>0</td><td>0</td><td>0</td><td>1</td><td>0</td></tr>\n    <tr><td class='row_index'>9</td><td>1000</td><td>16.29</td><td>35.31</td><td>0</td><td>28000</td><td>1</td><td>641</td><td>20.31</td><td>0</td><td>669</td><td class=vellipsis>&hellip;</td><td>0</td><td>0</td><td>0</td><td>1</td><td>0</td></tr>\n    <tr><td class='row_index'>10</td><td>10000</td><td>15.27</td><td>347.98</td><td>4</td><td>42000</td><td>1</td><td>921</td><td>18.6</td><td>0</td><td>674</td><td class=vellipsis>&hellip;</td><td>0</td><td>0</td><td>0</td><td>1</td><td>0</td></tr>\n    <tr><td class='row_index'>11</td><td>3600</td><td>6.03</td><td>109.57</td><td>10</td><td>110000</td><td>1</td><td>67</td><td>10.52</td><td>0</td><td>764</td><td class=vellipsis>&hellip;</td><td>0</td><td>0</td><td>0</td><td>1</td><td>0</td></tr>\n    <tr><td class='row_index'>12</td><td>6000</td><td>11.71</td><td>198.46</td><td>1</td><td>84000</td><td>1</td><td>890</td><td>18.44</td><td>2</td><td>689</td><td class=vellipsis>&hellip;</td><td>0</td><td>0</td><td>0</td><td>1</td><td>0</td></tr>\n    <tr><td class='row_index'>13</td><td>9200</td><td>6.03</td><td>280.01</td><td>6</td><td>77385.2</td><td>1</td><td>921</td><td>9.86</td><td>0</td><td>759</td><td class=vellipsis>&hellip;</td><td>0</td><td>0</td><td>0</td><td>1</td><td>0</td></tr>\n    <tr><td class='row_index'>14</td><td>20250</td><td>15.27</td><td>484.63</td><td>3</td><td>43370</td><td>1</td><td>770</td><td>26.53</td><td>0</td><td>729</td><td class=vellipsis>&hellip;</td><td>0</td><td>0</td><td>0</td><td>0</td><td>1</td></tr>\n    <tr><td class='row_index'>&#x22EE;</td><td class='hellipsis'>&#x22EE;</td><td class='hellipsis'>&#x22EE;</td><td class='hellipsis'>&#x22EE;</td><td class='hellipsis'>&#x22EE;</td><td class='hellipsis'>&#x22EE;</td><td class='hellipsis'>&#x22EE;</td><td class='hellipsis'>&#x22EE;</td><td class='hellipsis'>&#x22EE;</td><td class='hellipsis'>&#x22EE;</td><td class='hellipsis'>&#x22EE;</td><td class='hellipsis'>&#x22F1;</td><td class='hellipsis'>&#x22EE;</td><td class='hellipsis'>&#x22EE;</td><td class='hellipsis'>&#x22EE;</td><td class='hellipsis'>&#x22EE;</td><td class='hellipsis'>&#x22EE;</td></tr>\n    <tr><td class='row_index'>33,581</td><td>2500</td><td>8.07</td><td>78.42</td><td>4</td><td>110000</td><td>1</td><td>802</td><td>11.33</td><td>0</td><td>764</td><td class=vellipsis>&hellip;</td><td>0</td><td>0</td><td>0</td><td>1</td><td>0</td></tr>\n    <tr><td class='row_index'>33,582</td><td>8500</td><td>10.28</td><td>275.38</td><td>3</td><td>18000</td><td>1</td><td>274</td><td>6.4</td><td>1</td><td>694</td><td class=vellipsis>&hellip;</td><td>0</td><td>0</td><td>0</td><td>1</td><td>0</td></tr>\n    <tr><td class='row_index'>33,583</td><td>5000</td><td>8.07</td><td>156.84</td><td>0</td><td>100000</td><td>1</td><td>17</td><td>2.3</td><td>0</td><td>744</td><td class=vellipsis>&hellip;</td><td>0</td><td>0</td><td>0</td><td>1</td><td>0</td></tr>\n    <tr><td class='row_index'>33,584</td><td>5000</td><td>7.43</td><td>155.38</td><td>0</td><td>200000</td><td>1</td><td>208</td><td>3.72</td><td>0</td><td>814</td><td class=vellipsis>&hellip;</td><td>0</td><td>0</td><td>0</td><td>1</td><td>0</td></tr>\n    <tr><td class='row_index'>33,585</td><td>7500</td><td>13.75</td><td>255.43</td><td>0</td><td>22000</td><td>1</td><td>27</td><td>14.29</td><td>1</td><td>664</td><td class=vellipsis>&hellip;</td><td>0</td><td>0</td><td>0</td><td>1</td><td>0</td></tr>\n  </tbody>\n  </table>\n  <div class='footer'>\n    <div class='frame_dimensions'>33,586 rows &times; 41 columns</div>\n  </div>\n</div>\n",
      "text/plain": "<Frame [33586 rows x 41 cols]>"
     },
     "execution_count": 47,
     "metadata": {},
     "output_type": "execute_result"
    }
   ],
   "source": [
    "# Filter rows where loan status is `1`\n",
    "df[dt.f.loan_status == 1, :]"
   ]
  },
  {
   "cell_type": "markdown",
   "execution_count": null,
   "metadata": {},
   "outputs": [],
   "source": [
    "# Sorting"
   ]
  },
  {
   "cell_type": "code",
   "execution_count": 48,
   "metadata": {},
   "outputs": [
    {
     "data": {
      "text/html": "<div class='datatable'>\n  <table class='frame'>\n  <thead>\n    <tr class='colnames'><td class='row_index'></td><th>loan_amnt</th><th>int_rate</th><th>installment</th><th>emp_length</th><th>annual_inc</th><th>loan_status</th><th>zip_code</th><th>dti</th><th>delinq_2yrs</th><th>fico_range_high</th><th class='vellipsis'>&hellip;</th><th>purpose_small_business</th><th>purpose_vacation</th><th>purpose_wedding</th><th>term_ 36 months</th><th>term_ 60 months</th></tr>\n    <tr class='coltypes'><td class='row_index'></td><td class='float' title='float64'>&#x25AA;&#x25AA;&#x25AA;&#x25AA;&#x25AA;&#x25AA;&#x25AA;&#x25AA;</td><td class='float' title='float64'>&#x25AA;&#x25AA;&#x25AA;&#x25AA;&#x25AA;&#x25AA;&#x25AA;&#x25AA;</td><td class='float' title='float64'>&#x25AA;&#x25AA;&#x25AA;&#x25AA;&#x25AA;&#x25AA;&#x25AA;&#x25AA;</td><td class='integer' title='int32'>&#x25AA;&#x25AA;&#x25AA;&#x25AA;</td><td class='float' title='float64'>&#x25AA;&#x25AA;&#x25AA;&#x25AA;&#x25AA;&#x25AA;&#x25AA;&#x25AA;</td><td class='boolean' title='bool8'>&#x25AA;</td><td class='integer' title='int32'>&#x25AA;&#x25AA;&#x25AA;&#x25AA;</td><td class='float' title='float64'>&#x25AA;&#x25AA;&#x25AA;&#x25AA;&#x25AA;&#x25AA;&#x25AA;&#x25AA;</td><td class='float' title='float64'>&#x25AA;&#x25AA;&#x25AA;&#x25AA;&#x25AA;&#x25AA;&#x25AA;&#x25AA;</td><td class='float' title='float64'>&#x25AA;&#x25AA;&#x25AA;&#x25AA;&#x25AA;&#x25AA;&#x25AA;&#x25AA;</td><td></td><td class='float' title='float64'>&#x25AA;&#x25AA;&#x25AA;&#x25AA;&#x25AA;&#x25AA;&#x25AA;&#x25AA;</td><td class='float' title='float64'>&#x25AA;&#x25AA;&#x25AA;&#x25AA;&#x25AA;&#x25AA;&#x25AA;&#x25AA;</td><td class='float' title='float64'>&#x25AA;&#x25AA;&#x25AA;&#x25AA;&#x25AA;&#x25AA;&#x25AA;&#x25AA;</td><td class='float' title='float64'>&#x25AA;&#x25AA;&#x25AA;&#x25AA;&#x25AA;&#x25AA;&#x25AA;&#x25AA;</td><td class='float' title='float64'>&#x25AA;&#x25AA;&#x25AA;&#x25AA;&#x25AA;&#x25AA;&#x25AA;&#x25AA;</td></tr>\n  </thead>\n  <tbody>\n    <tr><td class='row_index'>0</td><td>2700</td><td>15.96</td><td>94.88</td><td>1</td><td>52200</td><td>1</td><td>21</td><td>12.57</td><td>0</td><td>629</td><td class=vellipsis>&hellip;</td><td>0</td><td>0</td><td>0</td><td>1</td><td>0</td></tr>\n    <tr><td class='row_index'>1</td><td>1500</td><td>14.7</td><td>51.78</td><td>1</td><td>25000</td><td>1</td><td>215</td><td>3.84</td><td>1</td><td>634</td><td class=vellipsis>&hellip;</td><td>0</td><td>0</td><td>0</td><td>1</td><td>0</td></tr>\n    <tr><td class='row_index'>2</td><td>3000</td><td>18.64</td><td>109.43</td><td>9</td><td>48000</td><td>1</td><td>900</td><td>5.35</td><td>0</td><td>664</td><td class=vellipsis>&hellip;</td><td>0</td><td>0</td><td>0</td><td>1</td><td>0</td></tr>\n    <tr><td class='row_index'>3</td><td>8000</td><td>16.77</td><td>284.31</td><td>0</td><td>62000</td><td>1</td><td>225</td><td>21.64</td><td>0</td><td>664</td><td class=vellipsis>&hellip;</td><td>0</td><td>0</td><td>0</td><td>1</td><td>0</td></tr>\n    <tr><td class='row_index'>4</td><td>6400</td><td>16.77</td><td>227.45</td><td>5</td><td>75000</td><td>0</td><td>923</td><td>20.22</td><td>0</td><td>664</td><td class=vellipsis>&hellip;</td><td>0</td><td>0</td><td>0</td><td>1</td><td>0</td></tr>\n    <tr><td class='row_index'>5</td><td>18000</td><td>19.91</td><td>475.99</td><td>10</td><td>65000</td><td>1</td><td>331</td><td>6.81</td><td>0</td><td>664</td><td class=vellipsis>&hellip;</td><td>0</td><td>0</td><td>0</td><td>0</td><td>1</td></tr>\n    <tr><td class='row_index'>6</td><td>15000</td><td>18.64</td><td>547.12</td><td>1</td><td>54000</td><td>1</td><td>300</td><td>19.69</td><td>0</td><td>664</td><td class=vellipsis>&hellip;</td><td>0</td><td>0</td><td>0</td><td>1</td><td>0</td></tr>\n    <tr><td class='row_index'>7</td><td>5300</td><td>15.27</td><td>184.43</td><td>1</td><td>30000</td><td>1</td><td>62</td><td>24.88</td><td>0</td><td>664</td><td class=vellipsis>&hellip;</td><td>0</td><td>0</td><td>0</td><td>1</td><td>0</td></tr>\n    <tr><td class='row_index'>8</td><td>4500</td><td>15.96</td><td>158.12</td><td>5</td><td>65000</td><td>1</td><td>120</td><td>14.66</td><td>0</td><td>664</td><td class=vellipsis>&hellip;</td><td>0</td><td>0</td><td>0</td><td>1</td><td>0</td></tr>\n    <tr><td class='row_index'>9</td><td>14400</td><td>18.25</td><td>522.41</td><td>5</td><td>51871</td><td>0</td><td>28</td><td>7.82</td><td>0</td><td>664</td><td class=vellipsis>&hellip;</td><td>0</td><td>0</td><td>0</td><td>1</td><td>0</td></tr>\n    <tr><td class='row_index'>10</td><td>15000</td><td>18.25</td><td>544.17</td><td>10</td><td>66000</td><td>1</td><td>945</td><td>8.49</td><td>2</td><td>664</td><td class=vellipsis>&hellip;</td><td>0</td><td>0</td><td>0</td><td>1</td><td>0</td></tr>\n    <tr><td class='row_index'>11</td><td>5000</td><td>15.96</td><td>175.69</td><td>7</td><td>98000</td><td>1</td><td>928</td><td>19.63</td><td>0</td><td>664</td><td class=vellipsis>&hellip;</td><td>0</td><td>0</td><td>0</td><td>1</td><td>0</td></tr>\n    <tr><td class='row_index'>12</td><td>20000</td><td>21.28</td><td>544.23</td><td>2</td><td>120000</td><td>1</td><td>551</td><td>16.72</td><td>0</td><td>664</td><td class=vellipsis>&hellip;</td><td>0</td><td>0</td><td>0</td><td>0</td><td>1</td></tr>\n    <tr><td class='row_index'>13</td><td>12000</td><td>17.27</td><td>429.45</td><td>2</td><td>95000</td><td>1</td><td>303</td><td>11.1</td><td>0</td><td>664</td><td class=vellipsis>&hellip;</td><td>0</td><td>0</td><td>0</td><td>1</td><td>0</td></tr>\n    <tr><td class='row_index'>14</td><td>5000</td><td>16.29</td><td>176.51</td><td>6</td><td>85000</td><td>0</td><td>982</td><td>22.81</td><td>0</td><td>664</td><td class=vellipsis>&hellip;</td><td>0</td><td>0</td><td>0</td><td>1</td><td>0</td></tr>\n    <tr><td class='row_index'>&#x22EE;</td><td class='hellipsis'>&#x22EE;</td><td class='hellipsis'>&#x22EE;</td><td class='hellipsis'>&#x22EE;</td><td class='hellipsis'>&#x22EE;</td><td class='hellipsis'>&#x22EE;</td><td class='hellipsis'>&#x22EE;</td><td class='hellipsis'>&#x22EE;</td><td class='hellipsis'>&#x22EE;</td><td class='hellipsis'>&#x22EE;</td><td class='hellipsis'>&#x22EE;</td><td class='hellipsis'>&#x22F1;</td><td class='hellipsis'>&#x22EE;</td><td class='hellipsis'>&#x22EE;</td><td class='hellipsis'>&#x22EE;</td><td class='hellipsis'>&#x22EE;</td><td class='hellipsis'>&#x22EE;</td></tr>\n    <tr><td class='row_index'>39,247</td><td>11000</td><td>8</td><td>344.71</td><td>10</td><td>44000</td><td>1</td><td>300</td><td>1.94</td><td>0</td><td>824</td><td class=vellipsis>&hellip;</td><td>0</td><td>0</td><td>0</td><td>1</td><td>0</td></tr>\n    <tr><td class='row_index'>39,248</td><td>25000</td><td>9.01</td><td>795.11</td><td>10</td><td>57000</td><td>1</td><td>980</td><td>8.93</td><td>0</td><td>824</td><td class=vellipsis>&hellip;</td><td>1</td><td>0</td><td>0</td><td>1</td><td>0</td></tr>\n    <tr><td class='row_index'>39,249</td><td>20000</td><td>11.71</td><td>441.97</td><td>0</td><td>40000</td><td>1</td><td>604</td><td>18.33</td><td>0</td><td>829</td><td class=vellipsis>&hellip;</td><td>0</td><td>0</td><td>0</td><td>0</td><td>1</td></tr>\n    <tr><td class='row_index'>39,250</td><td>6425</td><td>6.03</td><td>195.55</td><td>5</td><td>113000</td><td>1</td><td>335</td><td>4.09</td><td>0</td><td>829</td><td class=vellipsis>&hellip;</td><td>0</td><td>0</td><td>0</td><td>1</td><td>0</td></tr>\n    <tr><td class='row_index'>39,251</td><td>20000</td><td>10.51</td><td>390.09</td><td>5</td><td>150000</td><td>1</td><td>950</td><td>2.92</td><td>0</td><td>829</td><td class=vellipsis>&hellip;</td><td>0</td><td>0</td><td>0</td><td>1</td><td>0</td></tr>\n  </tbody>\n  </table>\n  <div class='footer'>\n    <div class='frame_dimensions'>39,252 rows &times; 41 columns</div>\n  </div>\n</div>\n",
      "text/plain": "<Frame [39252 rows x 41 cols]>"
     },
     "execution_count": 48,
     "metadata": {},
     "output_type": "execute_result"
    }
   ],
   "source": [
    "# Sort the table by FICO score\n",
    "df.sort('fico_range_high')"
   ]
  },
  {
   "cell_type": "markdown",
   "execution_count": null,
   "metadata": {},
   "outputs": [],
   "source": [
    "## Compute columnar expressions"
   ]
  },
  {
   "cell_type": "code",
   "execution_count": 71,
   "metadata": {},
   "outputs": [
    {
     "data": {
      "text/html": "<div class='datatable'>\n  <table class='frame'>\n  <thead>\n    <tr class='colnames'><td class='row_index'></td><th>new_int_rate</th><th>loan_over_inc</th></tr>\n    <tr class='coltypes'><td class='row_index'></td><td class='float' title='float64'>&#x25AA;&#x25AA;&#x25AA;&#x25AA;&#x25AA;&#x25AA;&#x25AA;&#x25AA;</td><td class='float' title='float64'>&#x25AA;&#x25AA;&#x25AA;&#x25AA;&#x25AA;&#x25AA;&#x25AA;&#x25AA;</td></tr>\n  </thead>\n  <tbody>\n    <tr><td class='row_index'>0</td><td>5.65</td><td>0.208333</td></tr>\n    <tr><td class='row_index'>1</td><td>10.27</td><td>0.0833333</td></tr>\n    <tr><td class='row_index'>2</td><td>10.96</td><td>0.195886</td></tr>\n    <tr><td class='row_index'>3</td><td>8.49</td><td>0.203252</td></tr>\n    <tr><td class='row_index'>4</td><td>2.9</td><td>0.138889</td></tr>\n    <tr><td class='row_index'>5</td><td>10.96</td><td>0.148923</td></tr>\n    <tr><td class='row_index'>6</td><td>13.64</td><td>0.0625</td></tr>\n    <tr><td class='row_index'>7</td><td>16.28</td><td>0.14</td></tr>\n    <tr><td class='row_index'>8</td><td>7.69</td><td>0.358333</td></tr>\n    <tr><td class='row_index'>9</td><td>9.65</td><td>0.0902778</td></tr>\n    <tr><td class='row_index'>10</td><td>7.69</td><td>0.16</td></tr>\n    <tr><td class='row_index'>11</td><td>8.49</td><td>0.3</td></tr>\n    <tr><td class='row_index'>12</td><td>4.91</td><td>0.2</td></tr>\n    <tr><td class='row_index'>13</td><td>5.65</td><td>0.1</td></tr>\n    <tr><td class='row_index'>14</td><td>11.29</td><td>0.0357143</td></tr>\n    <tr><td class='row_index'>&#x22EE;</td><td class='hellipsis'>&#x22EE;</td><td class='hellipsis'>&#x22EE;</td></tr>\n    <tr><td class='row_index'>39,247</td><td>3.07</td><td>0.0227273</td></tr>\n    <tr><td class='row_index'>39,248</td><td>5.28</td><td>0.472222</td></tr>\n    <tr><td class='row_index'>39,249</td><td>3.07</td><td>0.05</td></tr>\n    <tr><td class='row_index'>39,250</td><td>2.43</td><td>0.025</td></tr>\n    <tr><td class='row_index'>39,251</td><td>8.75</td><td>0.340909</td></tr>\n  </tbody>\n  </table>\n  <div class='footer'>\n    <div class='frame_dimensions'>39,252 rows &times; 2 columns</div>\n  </div>\n</div>\n",
      "text/plain": "<Frame [39252 rows x 2 cols]>"
     },
     "execution_count": 71,
     "metadata": {},
     "output_type": "execute_result"
    }
   ],
   "source": [
    "df[:, {\"new_int_rate\": dt.f.int_rate - 5, \"loan_over_inc\": dt.f.loan_amnt / dt.f.annual_inc}]"
   ]
  },
  {
   "cell_type": "markdown",
   "execution_count": null,
   "metadata": {},
   "outputs": [],
   "source": [
    "## Delete rows/columns\n",
    "\n",
    "```python\n",
    "del df[:, \"D\"]     # delete column D\n",
    "del df[dt.f.A < 0, :] # delete rows where column A has negative values\n",
    "```\n"
   ]
  },
  {
   "cell_type": "code",
   "execution_count": 49,
   "metadata": {},
   "outputs": [
    {
     "data": {
      "text/html": "<div class='datatable'>\n  <table class='frame'>\n  <thead>\n    <tr class='colnames'><td class='row_index'></td><th>loan_amnt</th><th>int_rate</th><th>installment</th><th>emp_length</th><th>annual_inc</th><th>loan_status</th><th>dti</th><th>delinq_2yrs</th><th>fico_range_high</th><th>inq_last_6mths</th><th class='vellipsis'>&hellip;</th><th>purpose_small_business</th><th>purpose_vacation</th><th>purpose_wedding</th><th>term_ 36 months</th><th>term_ 60 months</th></tr>\n    <tr class='coltypes'><td class='row_index'></td><td class='float' title='float64'>&#x25AA;&#x25AA;&#x25AA;&#x25AA;&#x25AA;&#x25AA;&#x25AA;&#x25AA;</td><td class='float' title='float64'>&#x25AA;&#x25AA;&#x25AA;&#x25AA;&#x25AA;&#x25AA;&#x25AA;&#x25AA;</td><td class='float' title='float64'>&#x25AA;&#x25AA;&#x25AA;&#x25AA;&#x25AA;&#x25AA;&#x25AA;&#x25AA;</td><td class='integer' title='int32'>&#x25AA;&#x25AA;&#x25AA;&#x25AA;</td><td class='float' title='float64'>&#x25AA;&#x25AA;&#x25AA;&#x25AA;&#x25AA;&#x25AA;&#x25AA;&#x25AA;</td><td class='boolean' title='bool8'>&#x25AA;</td><td class='float' title='float64'>&#x25AA;&#x25AA;&#x25AA;&#x25AA;&#x25AA;&#x25AA;&#x25AA;&#x25AA;</td><td class='float' title='float64'>&#x25AA;&#x25AA;&#x25AA;&#x25AA;&#x25AA;&#x25AA;&#x25AA;&#x25AA;</td><td class='float' title='float64'>&#x25AA;&#x25AA;&#x25AA;&#x25AA;&#x25AA;&#x25AA;&#x25AA;&#x25AA;</td><td class='float' title='float64'>&#x25AA;&#x25AA;&#x25AA;&#x25AA;&#x25AA;&#x25AA;&#x25AA;&#x25AA;</td><td></td><td class='float' title='float64'>&#x25AA;&#x25AA;&#x25AA;&#x25AA;&#x25AA;&#x25AA;&#x25AA;&#x25AA;</td><td class='float' title='float64'>&#x25AA;&#x25AA;&#x25AA;&#x25AA;&#x25AA;&#x25AA;&#x25AA;&#x25AA;</td><td class='float' title='float64'>&#x25AA;&#x25AA;&#x25AA;&#x25AA;&#x25AA;&#x25AA;&#x25AA;&#x25AA;</td><td class='float' title='float64'>&#x25AA;&#x25AA;&#x25AA;&#x25AA;&#x25AA;&#x25AA;&#x25AA;&#x25AA;</td><td class='float' title='float64'>&#x25AA;&#x25AA;&#x25AA;&#x25AA;&#x25AA;&#x25AA;&#x25AA;&#x25AA;</td></tr>\n  </thead>\n  <tbody>\n    <tr><td class='row_index'>0</td><td>5000</td><td>10.65</td><td>162.87</td><td>10</td><td>24000</td><td>1</td><td>27.65</td><td>0</td><td>739</td><td>1</td><td class=vellipsis>&hellip;</td><td>0</td><td>0</td><td>0</td><td>1</td><td>0</td></tr>\n    <tr><td class='row_index'>1</td><td>2500</td><td>15.27</td><td>59.83</td><td>0</td><td>30000</td><td>0</td><td>1</td><td>0</td><td>744</td><td>5</td><td class=vellipsis>&hellip;</td><td>0</td><td>0</td><td>0</td><td>0</td><td>1</td></tr>\n    <tr><td class='row_index'>2</td><td>2400</td><td>15.96</td><td>84.33</td><td>10</td><td>12252</td><td>1</td><td>8.72</td><td>0</td><td>739</td><td>2</td><td class=vellipsis>&hellip;</td><td>1</td><td>0</td><td>0</td><td>1</td><td>0</td></tr>\n    <tr><td class='row_index'>3</td><td>10000</td><td>13.49</td><td>339.31</td><td>10</td><td>49200</td><td>1</td><td>20</td><td>0</td><td>694</td><td>1</td><td class=vellipsis>&hellip;</td><td>0</td><td>0</td><td>0</td><td>1</td><td>0</td></tr>\n    <tr><td class='row_index'>4</td><td>5000</td><td>7.9</td><td>156.46</td><td>3</td><td>36000</td><td>1</td><td>11.2</td><td>0</td><td>734</td><td>3</td><td class=vellipsis>&hellip;</td><td>0</td><td>0</td><td>1</td><td>1</td><td>0</td></tr>\n    <tr><td class='row_index'>5</td><td>7000</td><td>15.96</td><td>170.08</td><td>8</td><td>47004</td><td>1</td><td>23.51</td><td>0</td><td>694</td><td>1</td><td class=vellipsis>&hellip;</td><td>0</td><td>0</td><td>0</td><td>0</td><td>1</td></tr>\n    <tr><td class='row_index'>6</td><td>3000</td><td>18.64</td><td>109.43</td><td>9</td><td>48000</td><td>1</td><td>5.35</td><td>0</td><td>664</td><td>2</td><td class=vellipsis>&hellip;</td><td>0</td><td>0</td><td>0</td><td>1</td><td>0</td></tr>\n    <tr><td class='row_index'>7</td><td>5600</td><td>21.28</td><td>152.39</td><td>4</td><td>40000</td><td>0</td><td>5.55</td><td>0</td><td>679</td><td>2</td><td class=vellipsis>&hellip;</td><td>1</td><td>0</td><td>0</td><td>0</td><td>1</td></tr>\n    <tr><td class='row_index'>8</td><td>5375</td><td>12.69</td><td>121.45</td><td>0</td><td>15000</td><td>0</td><td>18.08</td><td>0</td><td>729</td><td>0</td><td class=vellipsis>&hellip;</td><td>0</td><td>0</td><td>0</td><td>0</td><td>1</td></tr>\n    <tr><td class='row_index'>9</td><td>6500</td><td>14.65</td><td>153.45</td><td>5</td><td>72000</td><td>1</td><td>16.12</td><td>0</td><td>699</td><td>2</td><td class=vellipsis>&hellip;</td><td>0</td><td>0</td><td>0</td><td>0</td><td>1</td></tr>\n  </tbody>\n  </table>\n  <div class='footer'>\n    <div class='frame_dimensions'>10 rows &times; 40 columns</div>\n  </div>\n</div>\n",
      "text/plain": "<Frame [10 rows x 40 cols]>"
     },
     "execution_count": 49,
     "metadata": {},
     "output_type": "execute_result"
    }
   ],
   "source": [
    "# Delete the zip_code column\n",
    "\n",
    "del df[:, 'zip_code']\n",
    "\n",
    "df.head() # notice that 'zip_code' is gone!"
   ]
  },
  {
   "cell_type": "markdown",
   "execution_count": null,
   "metadata": {},
   "outputs": [],
   "source": [
    "## GroupBy calculations"
   ]
  },
  {
   "cell_type": "code",
   "execution_count": 53,
   "metadata": {},
   "outputs": [
    {
     "data": {
      "text/html": "<div class='datatable'>\n  <table class='frame'>\n  <thead>\n    <tr class='colnames'><td class='row_index'></td><th>inq_last_6mths</th><th>annual_inc</th></tr>\n    <tr class='coltypes'><td class='row_index'></td><td class='float' title='float64'>&#x25AA;&#x25AA;&#x25AA;&#x25AA;&#x25AA;&#x25AA;&#x25AA;&#x25AA;</td><td class='float' title='float64'>&#x25AA;&#x25AA;&#x25AA;&#x25AA;&#x25AA;&#x25AA;&#x25AA;&#x25AA;</td></tr>\n  </thead>\n  <tbody>\n    <tr><td class='row_index'>0</td><td>0</td><td>67327.6</td></tr>\n    <tr><td class='row_index'>1</td><td>1</td><td>68773.3</td></tr>\n    <tr><td class='row_index'>2</td><td>2</td><td>70673.2</td></tr>\n    <tr><td class='row_index'>3</td><td>3</td><td>73449.5</td></tr>\n    <tr><td class='row_index'>4</td><td>4</td><td>80724.4</td></tr>\n    <tr><td class='row_index'>5</td><td>5</td><td>80231.3</td></tr>\n    <tr><td class='row_index'>6</td><td>6</td><td>83668.6</td></tr>\n    <tr><td class='row_index'>7</td><td>7</td><td>73460.9</td></tr>\n    <tr><td class='row_index'>8</td><td>8</td><td>97928.3</td></tr>\n  </tbody>\n  </table>\n  <div class='footer'>\n    <div class='frame_dimensions'>9 rows &times; 2 columns</div>\n  </div>\n</div>\n",
      "text/plain": "<Frame [9 rows x 2 cols]>"
     },
     "execution_count": 53,
     "metadata": {},
     "output_type": "execute_result"
    }
   ],
   "source": [
    "# Group by example - average income by # of inquiries in last 6 mos.\n",
    "df[:, dt.mean(dt.f.annual_inc), dt.by(dt.f.inq_last_6mths)]"
   ]
  },
  {
   "cell_type": "markdown",
   "execution_count": null,
   "metadata": {},
   "outputs": [],
   "source": [
    "## Append rows/columns\n",
    "\n",
    "```\n",
    "df1.cbind(df2, df3)\n",
    "df1.rbind(df4, force=True)\n",
    "```"
   ]
  },
  {
   "cell_type": "code",
   "execution_count": null,
   "metadata": {},
   "outputs": [],
   "source": []
  }
 ]
}