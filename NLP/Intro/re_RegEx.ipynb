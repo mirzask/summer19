{
 "cells": [
  {
   "cell_type": "markdown",
   "metadata": {},
   "source": [
    "# RegEx\n",
    "\n",
    "In Python, this primarily involves the `re` package. If you need *speed*, check out the `flashtext` package.\n",
    "\n",
    "Commonly used methods in `re` include:\n",
    "\n",
    "- `match` - matches string from *beginning*\n",
    "- `search` - goes through entire string to find match\n",
    "- `split`\n",
    "- `findall`\n",
    "\n",
    "The form of these expressions is `re.match(pattern, string)`, i.e. pattern is the first argument and string the second.\n",
    "\n",
    "Greedy matching:\n",
    "\n",
    "- `*` matches 0 or more\n",
    "- `+` matches 1 or more"
   ]
  },
  {
   "cell_type": "code",
   "execution_count": 2,
   "metadata": {},
   "outputs": [],
   "source": [
    "import re"
   ]
  },
  {
   "cell_type": "markdown",
   "metadata": {},
   "source": [
    "## Split the string\n",
    "\n",
    "Use `split`. This is similar to R's `strsplit()` and `stringr::str_split()`"
   ]
  },
  {
   "cell_type": "code",
   "execution_count": 3,
   "metadata": {},
   "outputs": [
    {
     "data": {
      "text/plain": [
       "['5', '10', '15', '20']"
      ]
     },
     "execution_count": 3,
     "metadata": {},
     "output_type": "execute_result"
    }
   ],
   "source": [
    "re.split(\" \", \"5 10 15 20\")"
   ]
  },
  {
   "cell_type": "code",
   "execution_count": 4,
   "metadata": {},
   "outputs": [
    {
     "data": {
      "text/plain": [
       "['Something', 'Next']"
      ]
     },
     "execution_count": 4,
     "metadata": {},
     "output_type": "execute_result"
    }
   ],
   "source": [
    "re.split(\"\\s+\", \"Something \\n Next\")"
   ]
  },
  {
   "cell_type": "markdown",
   "metadata": {},
   "source": [
    "**Example** - Extract all sentences."
   ]
  },
  {
   "cell_type": "code",
   "execution_count": 7,
   "metadata": {},
   "outputs": [
    {
     "data": {
      "text/plain": [
       "[\"Let's write RegEx\", \" Won't that be fun\", ' I sure think so', '']"
      ]
     },
     "execution_count": 7,
     "metadata": {},
     "output_type": "execute_result"
    }
   ],
   "source": [
    "my_string = \"Let's write RegEx! Won't that be fun? I sure think so.\"\n",
    "\n",
    "sentence_endings = r\"[!|?|.]\"\n",
    "\n",
    "re.split(sentence_endings, my_string)"
   ]
  },
  {
   "cell_type": "markdown",
   "metadata": {},
   "source": [
    "**Example** - Split strings by spaces"
   ]
  },
  {
   "cell_type": "code",
   "execution_count": 10,
   "metadata": {},
   "outputs": [
    {
     "data": {
      "text/plain": [
       "[\"Let's\",\n",
       " 'write',\n",
       " 'RegEx!',\n",
       " \"Won't\",\n",
       " 'that',\n",
       " 'be',\n",
       " 'fun?',\n",
       " 'I',\n",
       " 'sure',\n",
       " 'think',\n",
       " 'so.']"
      ]
     },
     "execution_count": 10,
     "metadata": {},
     "output_type": "execute_result"
    }
   ],
   "source": [
    "my_string = \"Let's write RegEx! Won't that be fun? I sure think so.\"\n",
    "\n",
    "re.split(r\"\\s+\", my_string)"
   ]
  },
  {
   "cell_type": "markdown",
   "metadata": {},
   "source": [
    "# Extract all strings that match pattern\n",
    "\n",
    "Use `findall`, which works like `stringr::str_extract()` in R."
   ]
  },
  {
   "cell_type": "code",
   "execution_count": 6,
   "metadata": {},
   "outputs": [
    {
     "data": {
      "text/plain": [
       "['Yay', 'This', 'is', 'a', 'sentence']"
      ]
     },
     "execution_count": 6,
     "metadata": {},
     "output_type": "execute_result"
    }
   ],
   "source": [
    "my_string = \"Yay! This is a sentence.\"\n",
    "\n",
    "# Extract only words\n",
    "re.findall(r\"\\w+\", my_string)"
   ]
  },
  {
   "cell_type": "markdown",
   "metadata": {},
   "source": [
    "**Example** - Find all capitalized words"
   ]
  },
  {
   "cell_type": "code",
   "execution_count": 12,
   "metadata": {},
   "outputs": [
    {
     "data": {
      "text/plain": [
       "['Let', 'RegEx', 'Won', 'I']"
      ]
     },
     "execution_count": 12,
     "metadata": {},
     "output_type": "execute_result"
    }
   ],
   "source": [
    "my_string = \"Let's write RegEx! Won't that be fun? I sure think so.\"\n",
    "\n",
    "caps = r\"[A-Z]\\w*\"\n",
    "\n",
    "re.findall(caps, my_string)"
   ]
  },
  {
   "cell_type": "markdown",
   "metadata": {},
   "source": [
    "**Example** - count all of the words in hamlet"
   ]
  },
  {
   "cell_type": "code",
   "execution_count": null,
   "metadata": {},
   "outputs": [],
   "source": [
    "# from collections import Counter\n",
    "\n",
    "# words = re.findall(r'\\w+', open('hamlet.txt').read().lower())\n",
    "\n",
    "# # What are the 10 most common words?\n",
    "# Counter(words).most_common(10)"
   ]
  }
 ],
 "metadata": {
  "kernelspec": {
   "display_name": "Python 3",
   "language": "python",
   "name": "python3"
  },
  "language_info": {
   "codemirror_mode": {
    "name": "ipython",
    "version": 3
   },
   "file_extension": ".py",
   "mimetype": "text/x-python",
   "name": "python",
   "nbconvert_exporter": "python",
   "pygments_lexer": "ipython3",
   "version": "3.7.3"
  }
 },
 "nbformat": 4,
 "nbformat_minor": 4
}
