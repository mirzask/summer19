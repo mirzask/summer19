{
 "cells": [
  {
   "cell_type": "markdown",
   "metadata": {},
   "source": [
    "# Simple NLP Classification w/ sklearn\n",
    "\n",
    "- `sklearn.naive_bayes.MultinomialNB` for `CountVectorizer`, b/c works well w/ integers\n",
    "- SVM or Linear models for `TfidfVectorizer` b/c dealing with floats.\n",
    "\n",
    "I tried to use `flashtext` to replace punctuation w/ empty strings, but it wasn't working for some reason."
   ]
  },
  {
   "cell_type": "code",
   "execution_count": 87,
   "metadata": {},
   "outputs": [],
   "source": [
    "import numpy as np\n",
    "import pandas as pd\n",
    "import re\n",
    "import string\n",
    "from nltk.corpus import movie_reviews\n",
    "\n",
    "labels = [re.match(r\"\\w{3}\", l)[0] for l in movie_reviews.fileids()]\n",
    "\n",
    "df = pd.DataFrame(\n",
    "    {'text':movie_reviews.raw(fileids=[l]),'label': re.match(r\"\\w{3}\", l)[0]} for l in movie_reviews.fileids()\n",
    ")"
   ]
  },
  {
   "cell_type": "code",
   "execution_count": 4,
   "metadata": {},
   "outputs": [
    {
     "data": {
      "text/html": [
       "<div>\n",
       "<style scoped>\n",
       "    .dataframe tbody tr th:only-of-type {\n",
       "        vertical-align: middle;\n",
       "    }\n",
       "\n",
       "    .dataframe tbody tr th {\n",
       "        vertical-align: top;\n",
       "    }\n",
       "\n",
       "    .dataframe thead th {\n",
       "        text-align: right;\n",
       "    }\n",
       "</style>\n",
       "<table border=\"1\" class=\"dataframe\">\n",
       "  <thead>\n",
       "    <tr style=\"text-align: right;\">\n",
       "      <th></th>\n",
       "      <th>label</th>\n",
       "      <th>text</th>\n",
       "    </tr>\n",
       "  </thead>\n",
       "  <tbody>\n",
       "    <tr>\n",
       "      <th>0</th>\n",
       "      <td>neg</td>\n",
       "      <td>plot : two teen couples go to a church party ,...</td>\n",
       "    </tr>\n",
       "    <tr>\n",
       "      <th>1</th>\n",
       "      <td>neg</td>\n",
       "      <td>the happy bastard's quick movie review \\ndamn ...</td>\n",
       "    </tr>\n",
       "    <tr>\n",
       "      <th>2</th>\n",
       "      <td>neg</td>\n",
       "      <td>it is movies like these that make a jaded movi...</td>\n",
       "    </tr>\n",
       "    <tr>\n",
       "      <th>3</th>\n",
       "      <td>neg</td>\n",
       "      <td>\" quest for camelot \" is warner bros . ' firs...</td>\n",
       "    </tr>\n",
       "    <tr>\n",
       "      <th>4</th>\n",
       "      <td>neg</td>\n",
       "      <td>synopsis : a mentally unstable man undergoing ...</td>\n",
       "    </tr>\n",
       "  </tbody>\n",
       "</table>\n",
       "</div>"
      ],
      "text/plain": [
       "  label                                               text\n",
       "0   neg  plot : two teen couples go to a church party ,...\n",
       "1   neg  the happy bastard's quick movie review \\ndamn ...\n",
       "2   neg  it is movies like these that make a jaded movi...\n",
       "3   neg   \" quest for camelot \" is warner bros . ' firs...\n",
       "4   neg  synopsis : a mentally unstable man undergoing ..."
      ]
     },
     "execution_count": 4,
     "metadata": {},
     "output_type": "execute_result"
    }
   ],
   "source": [
    "df.head()"
   ]
  },
  {
   "cell_type": "code",
   "execution_count": 9,
   "metadata": {},
   "outputs": [
    {
     "data": {
      "text/plain": [
       "['!', '\"', '#', '$', '%', '&', \"'\", '(', ')', '*']"
      ]
     },
     "execution_count": 9,
     "metadata": {},
     "output_type": "execute_result"
    }
   ],
   "source": [
    "punctuations = list(string.punctuation)\n",
    "punctuations[:10]"
   ]
  },
  {
   "cell_type": "code",
   "execution_count": 22,
   "metadata": {},
   "outputs": [
    {
     "name": "stdout",
     "output_type": "stream",
     "text": [
      "! \n",
      ". \n",
      "x \n"
     ]
    }
   ],
   "source": [
    "# punc = [\"!\", \".\", \"x\"]\n",
    "# replacement = [\"\"]*len(punc)\n",
    "\n",
    "# for old, new in zip(punc, replacement):\n",
    "#     print(old, new)"
   ]
  },
  {
   "cell_type": "code",
   "execution_count": 76,
   "metadata": {},
   "outputs": [],
   "source": [
    "# Remove punctuation from the text\n",
    "df['text'] = df.text.apply(lambda x: \" \".join(x for x in x.split() if x not in punctuations))"
   ]
  },
  {
   "cell_type": "code",
   "execution_count": 78,
   "metadata": {},
   "outputs": [
    {
     "name": "stdout",
     "output_type": "stream",
     "text": [
      "class balance:\n",
      " pos    1000\n",
      "neg    1000\n",
      "Name: label, dtype: int64\n"
     ]
    }
   ],
   "source": [
    "y = df.label\n",
    "\n",
    "print(\"class balance:\\n\", df.label.value_counts())\n",
    "\n",
    "from sklearn.model_selection import train_test_split\n",
    "text_train, text_test, y_train, y_test = train_test_split(df['text'], y,\n",
    "                                                    test_size = 0.33,\n",
    "                                                    stratify = y,\n",
    "                                                    random_state = 42)"
   ]
  },
  {
   "cell_type": "markdown",
   "metadata": {},
   "source": [
    "## Naive Bayes"
   ]
  },
  {
   "cell_type": "code",
   "execution_count": 81,
   "metadata": {},
   "outputs": [],
   "source": [
    "from sklearn.feature_extraction.text import CountVectorizer\n",
    "\n",
    "# Count Vectorize\n",
    "vect = CountVectorizer(stop_words = 'english')\n",
    "\n",
    "X_train = vect.fit_transform(text_train.values)\n",
    "X_test = vect.transform(text_test.values)"
   ]
  },
  {
   "cell_type": "code",
   "execution_count": 92,
   "metadata": {},
   "outputs": [
    {
     "data": {
      "text/plain": [
       "MultinomialNB(alpha=1.0, class_prior=None, fit_prior=True)"
      ]
     },
     "execution_count": 92,
     "metadata": {},
     "output_type": "execute_result"
    }
   ],
   "source": [
    "from sklearn.naive_bayes import MultinomialNB\n",
    "from sklearn import metrics\n",
    "\n",
    "nb_classifier = MultinomialNB()\n",
    "nb_classifier.fit(X_train, y_train)"
   ]
  },
  {
   "cell_type": "code",
   "execution_count": 93,
   "metadata": {},
   "outputs": [],
   "source": [
    "pred = nb_classifier.predict(X_test)"
   ]
  },
  {
   "cell_type": "code",
   "execution_count": 94,
   "metadata": {},
   "outputs": [
    {
     "data": {
      "text/plain": [
       "0.8"
      ]
     },
     "execution_count": 94,
     "metadata": {},
     "output_type": "execute_result"
    }
   ],
   "source": [
    "metrics.accuracy_score(y_test, pred)"
   ]
  },
  {
   "cell_type": "code",
   "execution_count": 95,
   "metadata": {},
   "outputs": [
    {
     "data": {
      "text/plain": [
       "array([[264,  66],\n",
       "       [ 66, 264]])"
      ]
     },
     "execution_count": 95,
     "metadata": {},
     "output_type": "execute_result"
    }
   ],
   "source": [
    "metrics.confusion_matrix(y_test, pred)"
   ]
  },
  {
   "cell_type": "markdown",
   "metadata": {},
   "source": [
    "## Naive Bayes w/ TF-IDF"
   ]
  },
  {
   "cell_type": "code",
   "execution_count": 96,
   "metadata": {},
   "outputs": [],
   "source": [
    "from sklearn.feature_extraction.text import TfidfVectorizer\n",
    "\n",
    "tfidf = TfidfVectorizer(stop_words = 'english', max_df = 0.7)\n",
    "\n",
    "tfidf_train = tfidf.fit_transform(text_train)\n",
    "tfidf_test = tfidf.transform(text_test)"
   ]
  },
  {
   "cell_type": "code",
   "execution_count": 97,
   "metadata": {},
   "outputs": [],
   "source": [
    "# Hyperparameter tuning: alpha\n",
    "\n",
    "alphas = np.arange(0, 1, 0.1)\n",
    "\n",
    "# Create a function to train and predict for each alpha\n",
    "\n",
    "def train_and_predict(alpha):\n",
    "    # Instantitate classifier\n",
    "    nb_classifier = MultinomialNB(alpha=alpha)\n",
    "    # Fit to training data\n",
    "    nb_classifier.fit(tfidf_train, y_train)\n",
    "    # Make predictions\n",
    "    pred = nb_classifier.predict(tfidf_test)\n",
    "    # Calculate accuracy score\n",
    "    score = metrics.accuracy_score(y_test, pred)\n",
    "    return score"
   ]
  },
  {
   "cell_type": "code",
   "execution_count": 98,
   "metadata": {},
   "outputs": [
    {
     "name": "stdout",
     "output_type": "stream",
     "text": [
      "Alpha:\t 0.0\n",
      "Score:\t 0.7106060606060606\n",
      "\n",
      "Alpha:\t 0.1\n",
      "Score:\t 0.793939393939394\n",
      "\n",
      "Alpha:\t 0.2\n",
      "Score:\t 0.8015151515151515\n",
      "\n",
      "Alpha:\t 0.30000000000000004\n",
      "Score:\t 0.8045454545454546\n",
      "\n",
      "Alpha:\t 0.4\n",
      "Score:\t 0.8045454545454546\n",
      "\n",
      "Alpha:\t 0.5\n",
      "Score:\t 0.803030303030303\n",
      "\n",
      "Alpha:\t 0.6000000000000001\n",
      "Score:\t 0.8090909090909091\n",
      "\n",
      "Alpha:\t 0.7000000000000001\n",
      "Score:\t 0.8106060606060606\n",
      "\n",
      "Alpha:\t 0.8\n",
      "Score:\t 0.8090909090909091\n",
      "\n",
      "Alpha:\t 0.9\n",
      "Score:\t 0.8090909090909091\n",
      "\n"
     ]
    },
    {
     "name": "stderr",
     "output_type": "stream",
     "text": [
      "/Users/asnasiddiqui/miniconda3/lib/python3.7/site-packages/sklearn/naive_bayes.py:485: UserWarning: alpha too small will result in numeric errors, setting alpha = 1.0e-10\n",
      "  'setting alpha = %.1e' % _ALPHA_MIN)\n"
     ]
    }
   ],
   "source": [
    "for alpha in alphas:\n",
    "    print('Alpha:\\t', alpha)\n",
    "    print('Score:\\t', train_and_predict(alpha))\n",
    "    print()"
   ]
  },
  {
   "cell_type": "markdown",
   "metadata": {},
   "source": [
    "## Does the classifier make sense?"
   ]
  },
  {
   "cell_type": "code",
   "execution_count": 99,
   "metadata": {},
   "outputs": [],
   "source": [
    "# Class labels\n",
    "class_labels = nb_classifier.classes_\n",
    "\n",
    "# Feature names\n",
    "feat_names = tfidf.get_feature_names()"
   ]
  },
  {
   "cell_type": "code",
   "execution_count": 104,
   "metadata": {},
   "outputs": [
    {
     "data": {
      "text/plain": [
       "('neg',\n",
       " [(-12.457508177588833, '00s'),\n",
       "  (-12.457508177588833, '106'),\n",
       "  (-12.457508177588833, '108'),\n",
       "  (-12.457508177588833, '10b'),\n",
       "  (-12.457508177588833, '10s'),\n",
       "  (-12.457508177588833, '10th'),\n",
       "  (-12.457508177588833, '113'),\n",
       "  (-12.457508177588833, '115'),\n",
       "  (-12.457508177588833, '11th'),\n",
       "  (-12.457508177588833, '125')])"
      ]
     },
     "execution_count": 104,
     "metadata": {},
     "output_type": "execute_result"
    }
   ],
   "source": [
    "# Zip them together, sorted by weights\n",
    "\n",
    "feat_with_weights = sorted(zip(nb_classifier.coef_[0], feat_names))\n",
    "\n",
    "# Print first class label and top 10 weighted feats\n",
    "class_labels[0], feat_with_weights[:10]"
   ]
  },
  {
   "cell_type": "code",
   "execution_count": 105,
   "metadata": {},
   "outputs": [
    {
     "data": {
      "text/plain": [
       "('pos',\n",
       " [(-6.0102023150476205, 'characters'),\n",
       "  (-5.933945871439321, 'character'),\n",
       "  (-5.912158517254413, 'lifeboat'),\n",
       "  (-5.737288022453538, 'storyboarded'),\n",
       "  (-5.730076452737978, 'timekiller'),\n",
       "  (-5.707576983800263, 'goodall'),\n",
       "  (-5.683284291231219, 'justice'),\n",
       "  (-5.346812054610006, 'likeability'),\n",
       "  (-4.999322020248346, 'moviegoers'),\n",
       "  (-4.320989925473542, 'filmcritic')])"
      ]
     },
     "execution_count": 105,
     "metadata": {},
     "output_type": "execute_result"
    }
   ],
   "source": [
    "# Print second class label and bottom 10 weighted feats\n",
    "class_labels[1], feat_with_weights[-10:]"
   ]
  }
 ],
 "metadata": {
  "kernelspec": {
   "display_name": "Python 3",
   "language": "python",
   "name": "python3"
  },
  "language_info": {
   "codemirror_mode": {
    "name": "ipython",
    "version": 3
   },
   "file_extension": ".py",
   "mimetype": "text/x-python",
   "name": "python",
   "nbconvert_exporter": "python",
   "pygments_lexer": "ipython3",
   "version": "3.7.3"
  }
 },
 "nbformat": 4,
 "nbformat_minor": 4
}
