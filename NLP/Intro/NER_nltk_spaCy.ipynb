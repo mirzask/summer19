{
 "cells": [
  {
   "cell_type": "markdown",
   "metadata": {},
   "source": [
    "# Named Entity Recognition\n",
    "\n",
    "- `nltk` + Stanford coreNLP\n",
    "- `spacy` - includes informal language corpora as well"
   ]
  },
  {
   "cell_type": "code",
   "execution_count": 15,
   "metadata": {},
   "outputs": [
    {
     "name": "stderr",
     "output_type": "stream",
     "text": [
      "[nltk_data] Downloading package words to\n",
      "[nltk_data]     /Users/asnasiddiqui/nltk_data...\n",
      "[nltk_data]   Unzipping corpora/words.zip.\n"
     ]
    }
   ],
   "source": [
    "import nltk\n",
    "\n",
    "sentence = \"\"\"Nikola Tesla was a Serbian-American inventor, electrical engineer, mechanical engineer, and futurist who is best known for his contributions to the design of the modern alternating current electricity supply system.\"\"\""
   ]
  },
  {
   "cell_type": "code",
   "execution_count": 6,
   "metadata": {},
   "outputs": [],
   "source": [
    "# Tokenize words from the sentence\n",
    "tokenized_sent = nltk.word_tokenize(sentence)"
   ]
  },
  {
   "cell_type": "code",
   "execution_count": 7,
   "metadata": {},
   "outputs": [],
   "source": [
    "# POS tagging of each tokenized word\n",
    "tagged_sent = nltk.pos_tag(tokenized_sent)"
   ]
  },
  {
   "cell_type": "code",
   "execution_count": 10,
   "metadata": {},
   "outputs": [
    {
     "data": {
      "text/plain": [
       "[('Nikola', 'NNP'),\n",
       " ('Tesla', 'NNP'),\n",
       " ('was', 'VBD'),\n",
       " ('a', 'DT'),\n",
       " ('Serbian-American', 'JJ')]"
      ]
     },
     "execution_count": 10,
     "metadata": {},
     "output_type": "execute_result"
    }
   ],
   "source": [
    "tagged_sent[:5]"
   ]
  },
  {
   "cell_type": "code",
   "execution_count": 16,
   "metadata": {},
   "outputs": [
    {
     "data": {
      "image/png": "[encoded data removed]",
      "text/plain": [
       "Tree('S', [Tree('PERSON', [('Nikola', 'NNP')]), Tree('PERSON', [('Tesla', 'NNP')]), ('was', 'VBD'), ('a', 'DT'), ('Serbian-American', 'JJ'), ('inventor', 'NN'), (',', ','), ('electrical', 'JJ'), ('engineer', 'NN'), (',', ','), ('mechanical', 'JJ'), ('engineer', 'NN'), (',', ','), ('and', 'CC'), ('futurist', 'NN'), ('who', 'WP'), ('is', 'VBZ'), ('best', 'RBS'), ('known', 'VBN'), ('for', 'IN'), ('his', 'PRP$'), ('contributions', 'NNS'), ('to', 'TO'), ('the', 'DT'), ('design', 'NN'), ('of', 'IN'), ('the', 'DT'), ('modern', 'JJ'), ('alternating', 'VBG'), ('current', 'JJ'), ('electricity', 'NN'), ('supply', 'NN'), ('system', 'NN'), ('.', '.')])"
      ]
     },
     "execution_count": 16,
     "metadata": {},
     "output_type": "execute_result"
    }
   ],
   "source": [
    "nltk.ne_chunk(tagged_sent)"
   ]
  },
  {
   "cell_type": "markdown",
   "metadata": {},
   "source": [
    "## Pipeline for an article"
   ]
  },
  {
   "cell_type": "code",
   "execution_count": 17,
   "metadata": {},
   "outputs": [],
   "source": [
    "text = \"\"\"\n",
    "France has approved a digital services tax despite threats of retaliation by the US, which argues that it unfairly targets American tech giants.\n",
    "\n",
    "The 3% tax will be levied on sales generated in France by multinational firms like Google and Facebook.\n",
    "\n",
    "The French government has argued that such firms headquartered outside the country pay little or no tax.\n",
    "\n",
    "The US administration has ordered an inquiry into the move - which could result in retaliatory tariffs.\n",
    "\n",
    "The new tax was approved by the French senate on Thursday, a week after it was passed by the lower house, the National Assembly.\n",
    "\"\"\""
   ]
  },
  {
   "cell_type": "code",
   "execution_count": 23,
   "metadata": {},
   "outputs": [],
   "source": [
    "sentences = nltk.sent_tokenize(text)\n",
    "\n",
    "tokenized_sentences = [nltk.word_tokenize(sent) for sent in sentences]\n",
    "\n",
    "pos_sentences = [nltk.pos_tag(sent) for sent in tokenized_sentences]"
   ]
  },
  {
   "cell_type": "code",
   "execution_count": 25,
   "metadata": {},
   "outputs": [
    {
     "data": {
      "text/plain": [
       "[('France', 'NNP'),\n",
       " ('has', 'VBZ'),\n",
       " ('approved', 'VBN'),\n",
       " ('a', 'DT'),\n",
       " ('digital', 'JJ'),\n",
       " ('services', 'NNS'),\n",
       " ('tax', 'NN'),\n",
       " ('despite', 'IN'),\n",
       " ('threats', 'NNS'),\n",
       " ('of', 'IN'),\n",
       " ('retaliation', 'NN'),\n",
       " ('by', 'IN'),\n",
       " ('the', 'DT'),\n",
       " ('US', 'NNP'),\n",
       " (',', ','),\n",
       " ('which', 'WDT'),\n",
       " ('argues', 'VBZ'),\n",
       " ('that', 'IN'),\n",
       " ('it', 'PRP'),\n",
       " ('unfairly', 'RB'),\n",
       " ('targets', 'VBZ'),\n",
       " ('American', 'JJ'),\n",
       " ('tech', 'JJ'),\n",
       " ('giants', 'NNS'),\n",
       " ('.', '.')]"
      ]
     },
     "execution_count": 25,
     "metadata": {},
     "output_type": "execute_result"
    }
   ],
   "source": [
    "pos_sentences[0]"
   ]
  },
  {
   "cell_type": "code",
   "execution_count": 30,
   "metadata": {},
   "outputs": [],
   "source": [
    "# Named entity recognition for each chunk\n",
    "chunked_sentences = nltk.ne_chunk_sents(pos_sentences, binary=True)"
   ]
  },
  {
   "cell_type": "markdown",
   "metadata": {},
   "source": [
    "Which stems of the tree have proper nouns, i.e. 'NNP'?"
   ]
  },
  {
   "cell_type": "code",
   "execution_count": 35,
   "metadata": {},
   "outputs": [],
   "source": [
    "# not sure why this isn't giving any output\n",
    "for sent in chunked_sentences:\n",
    "    for chunk in sent:\n",
    "        if hasattr(chunk, \"label\") and chunk.label() == 'NE':\n",
    "            print(chunk)"
   ]
  },
  {
   "cell_type": "code",
   "execution_count": 36,
   "metadata": {},
   "outputs": [
    {
     "data": {
      "text/plain": [
       "([], [], [])"
      ]
     },
     "execution_count": 36,
     "metadata": {},
     "output_type": "execute_result"
    }
   ],
   "source": [
    "from collections import defaultdict\n",
    "import matplotlib.pyplot as plt\n",
    "\n",
    "ner_cats = defaultdict(int)\n",
    "\n",
    "for sent in chunked_sentences:\n",
    "    for chunk in sent:\n",
    "        if hasattr(chunk, 'label'):\n",
    "            ner_cats[chunk.label()] += 1\n",
    "            \n",
    "            \n",
    "labels = list(ner_cats.keys())\n",
    "values = [ner_cats.get(l) for l in labels]\n",
    "\n",
    "plt.pie(values, labels=labels, autopct = '%1.1f%%', startangle=140)"
   ]
  },
  {
   "cell_type": "markdown",
   "metadata": {},
   "source": [
    "## spaCy"
   ]
  },
  {
   "cell_type": "code",
   "execution_count": 50,
   "metadata": {},
   "outputs": [],
   "source": [
    "import en_core_web_sm\n",
    "\n",
    "nlp = en_core_web_sm.load()\n",
    "\n",
    "doc = nlp(text)"
   ]
  },
  {
   "cell_type": "code",
   "execution_count": 52,
   "metadata": {},
   "outputs": [
    {
     "data": {
      "text/plain": [
       "\n",
       "France has approved a digital services tax despite threats of"
      ]
     },
     "execution_count": 52,
     "metadata": {},
     "output_type": "execute_result"
    }
   ],
   "source": [
    "doc[:11]"
   ]
  },
  {
   "cell_type": "code",
   "execution_count": 54,
   "metadata": {},
   "outputs": [
    {
     "name": "stdout",
     "output_type": "stream",
     "text": [
      "France GPE\n",
      "US GPE\n",
      "American NORP\n",
      "3% PERCENT\n",
      "France GPE\n",
      "Google PRODUCT\n",
      "Facebook PERSON\n",
      "French NORP\n",
      "US GPE\n",
      "French NORP\n",
      "Thursday DATE\n",
      "a week DATE\n",
      "the National Assembly ORG\n"
     ]
    }
   ],
   "source": [
    "# Iterate over the predicted entities\n",
    "for ent in doc.ents:\n",
    "    # Print the entity text and its label\n",
    "    print(ent.text, ent.label_)"
   ]
  }
 ],
 "metadata": {
  "kernelspec": {
   "display_name": "Python 3",
   "language": "python",
   "name": "python3"
  },
  "language_info": {
   "codemirror_mode": {
    "name": "ipython",
    "version": 3
   },
   "file_extension": ".py",
   "mimetype": "text/x-python",
   "name": "python",
   "nbconvert_exporter": "python",
   "pygments_lexer": "ipython3",
   "version": "3.7.3"
  }
 },
 "nbformat": 4,
 "nbformat_minor": 4
}
