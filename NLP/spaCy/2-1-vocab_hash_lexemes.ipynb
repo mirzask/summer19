{
 "cells": [
  {
   "cell_type": "markdown",
   "metadata": {},
   "source": [
    "# Vocabs, Hashes, Lexemes\n",
    "\n",
    "spaCy encodes all the strings in a `Vocab` to **hash values**, i.e. memory saving b/c each string is only stored once. This also means that if a word is not in the vocabulary, there's no way to get its string.\n",
    "\n",
    "Any string can be converted to a hash.\n",
    "\n",
    "> Each Token -> corresponding Lexeme -> corresponding hash in string store"
   ]
  },
  {
   "cell_type": "markdown",
   "metadata": {},
   "source": [
    "## Look up a strings hash value\n",
    "\n",
    "`nlp.vocab.strings` works *both* ways, i.e. can lookup a string or hash value"
   ]
  },
  {
   "cell_type": "code",
   "execution_count": 13,
   "metadata": {},
   "outputs": [
    {
     "data": {
      "text/plain": [
       "3767271857074311788"
      ]
     },
     "execution_count": 13,
     "metadata": {},
     "output_type": "execute_result"
    }
   ],
   "source": [
    "nlp.vocab.strings[\"Chicago\"]"
   ]
  },
  {
   "cell_type": "code",
   "execution_count": 2,
   "metadata": {},
   "outputs": [
    {
     "name": "stdout",
     "output_type": "stream",
     "text": [
      "hash value: 3197928453018144401\n",
      "string value: coffee\n"
     ]
    }
   ],
   "source": [
    "# Import the English language class\n",
    "from spacy.lang.en import English\n",
    "\n",
    "# Create the nlp object\n",
    "nlp = English()\n",
    "\n",
    "doc = nlp(\"I love coffee\")\n",
    "\n",
    "print('hash value:', nlp.vocab.strings['coffee'])\n",
    "print('string value:', nlp.vocab.strings[3197928453018144401])"
   ]
  },
  {
   "cell_type": "markdown",
   "metadata": {},
   "source": [
    "Alternatively, can use `doc.vocab.strings`"
   ]
  },
  {
   "cell_type": "code",
   "execution_count": 3,
   "metadata": {},
   "outputs": [
    {
     "name": "stdout",
     "output_type": "stream",
     "text": [
      "hash value: 3197928453018144401\n"
     ]
    }
   ],
   "source": [
    "print('hash value:', doc.vocab.strings['coffee'])"
   ]
  },
  {
   "cell_type": "markdown",
   "metadata": {},
   "source": [
    "# Lexemes\n",
    "\n",
    "Context independent entries in the vocabulary, e.g. play is a lexeme that can take up many forms like play, playing, plays, and played. They do **not** have POS, dependencies or entity labels b/c these depend on context.\n",
    "\n",
    "Use `nlp.vocab` to look-up a string or hash ID.\n",
    "\n",
    "\n",
    "> See the spaCy [documentation](https://spacy.io/api/lexeme) for more info, including lexeme attributes.\n",
    "\n",
    "Need to use 'en_core_web_lg' to do word vector stuff, e.g. similarity. See [here](https://spacy.io/usage/vectors-similarity) for more info."
   ]
  },
  {
   "cell_type": "code",
   "execution_count": 4,
   "metadata": {},
   "outputs": [
    {
     "name": "stdout",
     "output_type": "stream",
     "text": [
      "coffee 3197928453018144401 True\n"
     ]
    }
   ],
   "source": [
    "doc = nlp(\"I love coffee\")\n",
    "\n",
    "lexeme = nlp.vocab['coffee']\n",
    "\n",
    "# Print the lexical attributes\n",
    "print(lexeme.text, lexeme.orth, lexeme.is_alpha)"
   ]
  },
  {
   "cell_type": "code",
   "execution_count": 5,
   "metadata": {},
   "outputs": [
    {
     "name": "stdout",
     "output_type": "stream",
     "text": [
      "playing 13803694918078379268 True\n"
     ]
    }
   ],
   "source": [
    "doc = nlp(\"I love playing basketball\")\n",
    "\n",
    "lexeme = nlp.vocab['playing']\n",
    "\n",
    "# Print the lexical attributes\n",
    "print(lexeme.text, lexeme.orth, lexeme.is_alpha)"
   ]
  }
 ],
 "metadata": {
  "kernelspec": {
   "display_name": "Python 3",
   "language": "python",
   "name": "python3"
  },
  "language_info": {
   "codemirror_mode": {
    "name": "ipython",
    "version": 3
   },
   "file_extension": ".py",
   "mimetype": "text/x-python",
   "name": "python",
   "nbconvert_exporter": "python",
   "pygments_lexer": "ipython3",
   "version": "3.7.3"
  }
 },
 "nbformat": 4,
 "nbformat_minor": 4
}
